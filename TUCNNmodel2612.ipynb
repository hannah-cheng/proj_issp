{
 "cells": [
  {
   "cell_type": "code",
   "execution_count": 1,
   "metadata": {
    "colab": {
     "base_uri": "https://localhost:8080/",
     "height": 69,
     "resources": {
      "http://localhost:8080/nbextensions/google.colab/files.js": {
       "data": "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",
       "headers": [
        [
         "content-type",
         "application/javascript"
        ]
       ],
       "ok": true,
       "status": 200,
       "status_text": ""
      }
     }
    },
    "colab_type": "code",
    "id": "uFV9AneR-09J",
    "outputId": "2e8e7d38-5937-48fc-f5d7-cb7eb987725b"
   },
   "outputs": [
    {
     "data": {
      "text/html": [
       "\n",
       "     <input type=\"file\" id=\"files-6f345e46-7d62-4a1d-8a24-f6f1890a8f74\" name=\"files[]\" multiple disabled />\n",
       "     <output id=\"result-6f345e46-7d62-4a1d-8a24-f6f1890a8f74\">\n",
       "      Upload widget is only available when the cell has been executed in the\n",
       "      current browser session. Please rerun this cell to enable.\n",
       "      </output>\n",
       "      <script src=\"/nbextensions/google.colab/files.js\"></script> "
      ],
      "text/plain": [
       "<IPython.core.display.HTML object>"
      ]
     },
     "metadata": {
      "tags": []
     },
     "output_type": "display_data"
    },
    {
     "name": "stdout",
     "output_type": "stream",
     "text": [
      "Saving categoryFuruyaFinal.csv to categoryFuruyaFinal.csv\n"
     ]
    }
   ],
   "source": [
    "from google.colab import files\n",
    "uploaded = files.upload()"
   ]
  },
  {
   "cell_type": "code",
   "execution_count": 0,
   "metadata": {
    "colab": {},
    "colab_type": "code",
    "id": "zd4eV7KX_ztN"
   },
   "outputs": [],
   "source": [
    "import numpy as np\n",
    "import tensorflow as tf"
   ]
  },
  {
   "cell_type": "code",
   "execution_count": 3,
   "metadata": {
    "colab": {
     "base_uri": "https://localhost:8080/",
     "height": 34
    },
    "colab_type": "code",
    "id": "ARD7Ghla_0EP",
    "outputId": "b707a2a7-b17c-4561-f2c9-8119b83fabb1"
   },
   "outputs": [
    {
     "name": "stderr",
     "output_type": "stream",
     "text": [
      "Using TensorFlow backend.\n"
     ]
    }
   ],
   "source": [
    "import keras as ks"
   ]
  },
  {
   "cell_type": "code",
   "execution_count": 0,
   "metadata": {
    "colab": {},
    "colab_type": "code",
    "id": "jeKf-43l_0LO"
   },
   "outputs": [],
   "source": [
    "import pandas as pd\n",
    "#import GPy, GPyOpt\n",
    "import random\n",
    "import matplotlib.pyplot as plt\n",
    "import pywt\n",
    "from keras.models import Sequential\n",
    "from keras.layers import Dense, Activation, Flatten,Dropout,Conv2D,Conv1D,MaxPooling2D, MaxPooling1D,Reshape\n",
    "from keras.utils import np_utils\n",
    "from keras.callbacks import EarlyStopping\n",
    "from keras.wrappers.scikit_learn import KerasClassifier\n",
    "from keras.utils.np_utils import to_categorical\n",
    "from sklearn import preprocessing\n",
    "from keras.layers.pooling import GlobalMaxPooling1D\n",
    "from sklearn import svm\n",
    "from sklearn import metrics\n",
    "from keras.callbacks import EarlyStopping"
   ]
  },
  {
   "cell_type": "code",
   "execution_count": 0,
   "metadata": {
    "colab": {},
    "colab_type": "code",
    "id": "XJ15OYU1_0np"
   },
   "outputs": [],
   "source": [
    "df = pd.read_csv(\"categoryFuruyaFinal.csv\",delimiter=',')"
   ]
  },
  {
   "cell_type": "code",
   "execution_count": 0,
   "metadata": {
    "colab": {},
    "colab_type": "code",
    "id": "Xb6QAiEsFtjB"
   },
   "outputs": [],
   "source": [
    "df"
   ]
  },
  {
   "cell_type": "code",
   "execution_count": 0,
   "metadata": {
    "colab": {},
    "colab_type": "code",
    "id": "eXKWqXpFF12j"
   },
   "outputs": [],
   "source": []
  },
  {
   "cell_type": "code",
   "execution_count": 0,
   "metadata": {
    "colab": {},
    "colab_type": "code",
    "id": "B8C61Q6X_0jR"
   },
   "outputs": [],
   "source": [
    "data = df.values"
   ]
  },
  {
   "cell_type": "code",
   "execution_count": 0,
   "metadata": {
    "colab": {},
    "colab_type": "code",
    "id": "_BPDNmuxFy7V"
   },
   "outputs": [],
   "source": [
    "xData = data[:,5:727]"
   ]
  },
  {
   "cell_type": "code",
   "execution_count": 0,
   "metadata": {
    "colab": {},
    "colab_type": "code",
    "id": "_YZqQtDRFzL2"
   },
   "outputs": [],
   "source": [
    "xDemo = data[0:1,5:727]"
   ]
  },
  {
   "cell_type": "code",
   "execution_count": 0,
   "metadata": {
    "colab": {},
    "colab_type": "code",
    "id": "Xe_IuM84biNO"
   },
   "outputs": [],
   "source": [
    "xDemo"
   ]
  },
  {
   "cell_type": "code",
   "execution_count": 0,
   "metadata": {
    "colab": {},
    "colab_type": "code",
    "id": "3J4oVFW5boGR"
   },
   "outputs": [],
   "source": [
    "xDemo_int = xDemo.astype(np.int64)"
   ]
  },
  {
   "cell_type": "code",
   "execution_count": 0,
   "metadata": {
    "colab": {},
    "colab_type": "code",
    "id": "_VqjIS3bbogj"
   },
   "outputs": [],
   "source": [
    "x1 = np.array([1,2,3,4,5,6])"
   ]
  },
  {
   "cell_type": "code",
   "execution_count": 0,
   "metadata": {
    "colab": {},
    "colab_type": "code",
    "id": "28OzaVNybuYW"
   },
   "outputs": [],
   "source": [
    "xData_int = xData.astype(np.int64)"
   ]
  },
  {
   "cell_type": "markdown",
   "metadata": {
    "colab_type": "text",
    "id": "j9F3UpOvAHKW"
   },
   "source": [
    "Wavelet 変換　ここから\n",
    "Level1, Level3"
   ]
  },
  {
   "cell_type": "code",
   "execution_count": 0,
   "metadata": {
    "colab": {},
    "colab_type": "code",
    "id": "taH-GjpudL4z"
   },
   "outputs": [],
   "source": [
    "(cA,cD) = pywt.wavedec(xData_int, 'haar', level=1,axis=1)"
   ]
  },
  {
   "cell_type": "code",
   "execution_count": 0,
   "metadata": {
    "colab": {},
    "colab_type": "code",
    "id": "AL5lJea8dL_X"
   },
   "outputs": [],
   "source": [
    "cA_arr = np.array(cA)\n",
    "cD_arr = np.array(cD)"
   ]
  },
  {
   "cell_type": "code",
   "execution_count": 0,
   "metadata": {
    "colab": {},
    "colab_type": "code",
    "id": "25odDaPMbudZ"
   },
   "outputs": [],
   "source": [
    "waveData=np.concatenate([cA_arr, cD_arr], axis=1)\n",
    "#level1のHaar waveletのデータ"
   ]
  },
  {
   "cell_type": "code",
   "execution_count": 0,
   "metadata": {
    "colab": {
     "base_uri": "https://localhost:8080/",
     "height": 34
    },
    "colab_type": "code",
    "id": "QD58HRWlbodB",
    "outputId": "8797c23d-7f32-4697-a612-c454fe16960f"
   },
   "outputs": [
    {
     "data": {
      "text/plain": [
       "(5832, 720)"
      ]
     },
     "execution_count": 12,
     "metadata": {
      "tags": []
     },
     "output_type": "execute_result"
    }
   ],
   "source": [
    "waveData.shape"
   ]
  },
  {
   "cell_type": "code",
   "execution_count": 0,
   "metadata": {
    "colab": {},
    "colab_type": "code",
    "id": "h1W9mS-0CwQH"
   },
   "outputs": [],
   "source": [
    "xWavetrainL1 =waveData[0:3888,:] \n",
    "xWavetestL1 = waveData[3888:5832,:]"
   ]
  },
  {
   "cell_type": "code",
   "execution_count": 0,
   "metadata": {
    "colab": {},
    "colab_type": "code",
    "id": "khgEz2j0FLzZ"
   },
   "outputs": [],
   "source": [
    "xWavetestL1 = waveData[3888:5832,:]"
   ]
  },
  {
   "cell_type": "code",
   "execution_count": 0,
   "metadata": {
    "colab": {
     "base_uri": "https://localhost:8080/",
     "height": 34
    },
    "colab_type": "code",
    "id": "9PdndGIZCxL4",
    "outputId": "0cb0535f-c5c6-41bc-e0ad-ca60512c1cc3"
   },
   "outputs": [
    {
     "data": {
      "text/plain": [
       "(1944, 715)"
      ]
     },
     "execution_count": 33,
     "metadata": {
      "tags": []
     },
     "output_type": "execute_result"
    }
   ],
   "source": [
    "xWavetestL1.shape"
   ]
  },
  {
   "cell_type": "markdown",
   "metadata": {
    "colab_type": "text",
    "id": "Ttg6hiHpCGRL"
   },
   "source": [
    "ここからlevel3 のwavelet変換"
   ]
  },
  {
   "cell_type": "code",
   "execution_count": 0,
   "metadata": {
    "colab": {},
    "colab_type": "code",
    "id": "TPOvdEAWB-Dz"
   },
   "outputs": [],
   "source": [
    "(cA3,cD3,cD2,cD1) = pywt.wavedec(xData_int, 'haar', level=3,axis=1)"
   ]
  },
  {
   "cell_type": "code",
   "execution_count": 0,
   "metadata": {
    "colab": {},
    "colab_type": "code",
    "id": "znTSEC_76dFM"
   },
   "outputs": [],
   "source": [
    "(cA4,cD4,cD43,cD42,cD41) = pywt.wavedec(xData_int, 'haar', level=4,axis=1)"
   ]
  },
  {
   "cell_type": "code",
   "execution_count": 0,
   "metadata": {
    "colab": {},
    "colab_type": "code",
    "id": "_pulg1Vl6jGl"
   },
   "outputs": [],
   "source": [
    "cA4_arr= np.array(cA4)\n",
    "cD4_arr= np.array(cD4)\n",
    "cD43_arr= np.array(cD43)\n",
    "cD42_arr= np.array(cD42)\n",
    "cD41_arr= np.array(cD41)"
   ]
  },
  {
   "cell_type": "code",
   "execution_count": 0,
   "metadata": {
    "colab": {},
    "colab_type": "code",
    "id": "_HrVoel7B-YL"
   },
   "outputs": [],
   "source": [
    "cA3_arr= np.array(cA3)\n",
    "cD3_arr= np.array(cD3)\n",
    "cD2_arr= np.array(cD2)\n",
    "cD1_arr= np.array(cD1)"
   ]
  },
  {
   "cell_type": "code",
   "execution_count": 0,
   "metadata": {
    "colab": {},
    "colab_type": "code",
    "id": "N1RdGREvCahy"
   },
   "outputs": [],
   "source": [
    "waveDataL3=np.concatenate([cA3_arr, cD3_arr,cD2_arr,cD1_arr], axis=1)"
   ]
  },
  {
   "cell_type": "code",
   "execution_count": 0,
   "metadata": {
    "colab": {
     "base_uri": "https://localhost:8080/",
     "height": 34
    },
    "colab_type": "code",
    "id": "RTWacL5FB-xz",
    "outputId": "aeb23826-c489-4998-e28a-8447d22d7564"
   },
   "outputs": [
    {
     "data": {
      "text/plain": [
       "(5832, 720)"
      ]
     },
     "execution_count": 16,
     "metadata": {
      "tags": []
     },
     "output_type": "execute_result"
    }
   ],
   "source": [
    "waveDataL3.shape"
   ]
  },
  {
   "cell_type": "code",
   "execution_count": 0,
   "metadata": {
    "colab": {},
    "colab_type": "code",
    "id": "Hh-3kS007M1V"
   },
   "outputs": [],
   "source": [
    "waveDataL4=np.concatenate([cA4_arr, cD4_arr,cD43_arr,cD42_arr,cD41_arr], axis=1)"
   ]
  },
  {
   "cell_type": "code",
   "execution_count": 0,
   "metadata": {
    "colab": {},
    "colab_type": "code",
    "id": "2Z26BZA7B9_Z"
   },
   "outputs": [],
   "source": [
    "xWavetrainL3 =waveDataL3[0:3888,:] \n",
    "xWavetestL3 = waveDataL3[3888:5832,:]"
   ]
  },
  {
   "cell_type": "code",
   "execution_count": 0,
   "metadata": {
    "colab": {},
    "colab_type": "code",
    "id": "CiZGJ3uCFPWB"
   },
   "outputs": [],
   "source": [
    "xWavetestL3 = waveDataL3[3888:5832,:]"
   ]
  },
  {
   "cell_type": "code",
   "execution_count": 0,
   "metadata": {
    "colab": {},
    "colab_type": "code",
    "id": "YKKV5dZR8WQD"
   },
   "outputs": [],
   "source": [
    "xWavetrainL4 =waveDataL4[0:3888,:] "
   ]
  },
  {
   "cell_type": "code",
   "execution_count": 0,
   "metadata": {
    "colab": {},
    "colab_type": "code",
    "id": "Q1RP8yo18YQM"
   },
   "outputs": [],
   "source": [
    "xWavetestL4 = waveDataL4[3888:5832,:]"
   ]
  },
  {
   "cell_type": "code",
   "execution_count": 0,
   "metadata": {
    "colab": {},
    "colab_type": "code",
    "id": "LLXsw3JC_0ff"
   },
   "outputs": [],
   "source": [
    "Xtrain1 = data[0:3888,5:727] ##4,5月"
   ]
  },
  {
   "cell_type": "code",
   "execution_count": 0,
   "metadata": {
    "colab": {
     "base_uri": "https://localhost:8080/",
     "height": 136
    },
    "colab_type": "code",
    "id": "zhn_PBCqALTb",
    "outputId": "d37ad573-23ac-4cb7-c440-eea6aa0372fc"
   },
   "outputs": [
    {
     "data": {
      "text/plain": [
       "array([[0, 0, 0, ..., 0, 0, 0],\n",
       "       [0, 0, 0, ..., 0, 0, 0],\n",
       "       [0, 0, 0, ..., 0, 0, 3],\n",
       "       ...,\n",
       "       [0, 0, 0, ..., 0, 0, 0],\n",
       "       [0, 0, 0, ..., 0, 0, 0],\n",
       "       [0, 0, 0, ..., 0, 0, 0]], dtype=object)"
      ]
     },
     "execution_count": 8,
     "metadata": {
      "tags": []
     },
     "output_type": "execute_result"
    }
   ],
   "source": [
    "Xtrain1"
   ]
  },
  {
   "cell_type": "code",
   "execution_count": 0,
   "metadata": {
    "colab": {
     "base_uri": "https://localhost:8080/",
     "height": 34
    },
    "colab_type": "code",
    "id": "7tnVPw5zALXB",
    "outputId": "4426bda1-f925-418c-f277-e5cbd17a4d23"
   },
   "outputs": [
    {
     "data": {
      "text/plain": [
       "(3888, 720)"
      ]
     },
     "execution_count": 10,
     "metadata": {
      "tags": []
     },
     "output_type": "execute_result"
    }
   ],
   "source": [
    "Xtrain1.shape"
   ]
  },
  {
   "cell_type": "code",
   "execution_count": 0,
   "metadata": {
    "colab": {},
    "colab_type": "code",
    "id": "fZ7Td_JLALbF"
   },
   "outputs": [],
   "source": [
    "Xtest1 = data[3888:5832,5:726]"
   ]
  },
  {
   "cell_type": "code",
   "execution_count": 0,
   "metadata": {
    "colab": {
     "base_uri": "https://localhost:8080/",
     "height": 34
    },
    "colab_type": "code",
    "id": "_s335ruyALfM",
    "outputId": "c51af910-f4f6-4e1e-aa22-b5f3f84a9cc4"
   },
   "outputs": [
    {
     "data": {
      "text/plain": [
       "(1944, 720)"
      ]
     },
     "execution_count": 12,
     "metadata": {
      "tags": []
     },
     "output_type": "execute_result"
    }
   ],
   "source": [
    "Xtest1.shape"
   ]
  },
  {
   "cell_type": "code",
   "execution_count": 0,
   "metadata": {
    "colab": {},
    "colab_type": "code",
    "id": "2YyuQWjSALj9"
   },
   "outputs": [],
   "source": [
    "Ytrain1 = data[0:3888,1]"
   ]
  },
  {
   "cell_type": "code",
   "execution_count": 0,
   "metadata": {
    "colab": {},
    "colab_type": "code",
    "id": "BZBLaZZ-_0bL"
   },
   "outputs": [],
   "source": [
    "Ytest1 = data[3888:5832,1]"
   ]
  },
  {
   "cell_type": "code",
   "execution_count": 0,
   "metadata": {
    "colab": {},
    "colab_type": "code",
    "id": "as3zMEA_KoLI"
   },
   "outputs": [],
   "source": [
    "Ytest = data[3888:5832,1]"
   ]
  },
  {
   "cell_type": "code",
   "execution_count": 0,
   "metadata": {
    "colab": {
     "base_uri": "https://localhost:8080/",
     "height": 34
    },
    "colab_type": "code",
    "id": "AQi2ebL1KxX0",
    "outputId": "e692ab7e-ea7e-4272-9234-05879ab44721"
   },
   "outputs": [
    {
     "data": {
      "text/plain": [
       "array([1, 2, 3, ..., 1, 2, 3], dtype=object)"
      ]
     },
     "execution_count": 34,
     "metadata": {
      "tags": []
     },
     "output_type": "execute_result"
    }
   ],
   "source": [
    "Ytest"
   ]
  },
  {
   "cell_type": "code",
   "execution_count": 0,
   "metadata": {
    "colab": {
     "base_uri": "https://localhost:8080/",
     "height": 34
    },
    "colab_type": "code",
    "id": "L4vIYYPgK8me",
    "outputId": "06f2e5e6-0156-4c70-cec9-729ea875126d"
   },
   "outputs": [
    {
     "data": {
      "text/plain": [
       "(1944,)"
      ]
     },
     "execution_count": 35,
     "metadata": {
      "tags": []
     },
     "output_type": "execute_result"
    }
   ],
   "source": [
    "Ytest.shape"
   ]
  },
  {
   "cell_type": "code",
   "execution_count": 0,
   "metadata": {
    "colab": {},
    "colab_type": "code",
    "id": "bzSxk-z5L-j3"
   },
   "outputs": [],
   "source": [
    "ytrain_int = Ytrain1.astype(np.int64)\n",
    "ytest_int = Ytest1.astype(np.int64)"
   ]
  },
  {
   "cell_type": "code",
   "execution_count": 0,
   "metadata": {
    "colab": {},
    "colab_type": "code",
    "id": "EKQjJLefAZsc"
   },
   "outputs": [],
   "source": [
    "train_X = np.reshape(Xtrain1, (-1, 720, 1))\n",
    "test_X = np.reshape(Xtest1, (-1, 720, 1))\n",
    "train_Xw1 = np.reshape(xWavetrainL1, (-1, 720, 1))\n",
    "test_Xw1 = np.reshape(xWavetestL1, (-1, 720, 1))\n",
    "train_Xw3 = np.reshape(xWavetrainL3, (-1, 720, 1))\n",
    "test_Xw3 = np.reshape(xWavetestL3, (-1, 720, 1))\n",
    "#train_Xw4 = np.reshape(xWavetrainL4, (-1, 720, 1))\n",
    "#test_Xw4 = np.reshape(xWavetestL4, (-1, 720, 1))"
   ]
  },
  {
   "cell_type": "code",
   "execution_count": 0,
   "metadata": {
    "colab": {},
    "colab_type": "code",
    "id": "MHqrMT4xAZvl"
   },
   "outputs": [],
   "source": [
    "num_class = 4"
   ]
  },
  {
   "cell_type": "code",
   "execution_count": 0,
   "metadata": {
    "colab": {},
    "colab_type": "code",
    "id": "uZpZ2C0DAZ4d"
   },
   "outputs": [],
   "source": [
    "Ytrain1 = to_categorical(ytrain_int, num_class)\n",
    "Ytest1 = to_categorical(ytest_int , num_class)"
   ]
  },
  {
   "cell_type": "code",
   "execution_count": 0,
   "metadata": {
    "colab": {
     "base_uri": "https://localhost:8080/",
     "height": 136
    },
    "colab_type": "code",
    "id": "VWGf2GHvFouK",
    "outputId": "fccc9d20-da46-4f1d-ec3f-05506ad0b187"
   },
   "outputs": [
    {
     "data": {
      "text/plain": [
       "array([[0., 1., 0., 0.],\n",
       "       [0., 0., 1., 0.],\n",
       "       [0., 0., 0., 1.],\n",
       "       ...,\n",
       "       [0., 1., 0., 0.],\n",
       "       [0., 0., 1., 0.],\n",
       "       [0., 0., 0., 1.]], dtype=float32)"
      ]
     },
     "execution_count": 31,
     "metadata": {
      "tags": []
     },
     "output_type": "execute_result"
    }
   ],
   "source": [
    "Ytest1"
   ]
  },
  {
   "cell_type": "code",
   "execution_count": 31,
   "metadata": {
    "colab": {
     "base_uri": "https://localhost:8080/",
     "height": 544
    },
    "colab_type": "code",
    "id": "mT9IxHxeAZ8k",
    "outputId": "c38636f3-d439-4ee5-b2df-90bf323ad417"
   },
   "outputs": [
    {
     "name": "stdout",
     "output_type": "stream",
     "text": [
      "_________________________________________________________________\n",
      "Layer (type)                 Output Shape              Param #   \n",
      "=================================================================\n",
      "conv1d_1 (Conv1D)            (None, 720, 225)          1125      \n",
      "_________________________________________________________________\n",
      "max_pooling1d_1 (MaxPooling1 (None, 90, 225)           0         \n",
      "_________________________________________________________________\n",
      "conv1d_2 (Conv1D)            (None, 90, 200)           135200    \n",
      "_________________________________________________________________\n",
      "conv1d_3 (Conv1D)            (None, 90, 780)           1092780   \n",
      "_________________________________________________________________\n",
      "conv1d_4 (Conv1D)            (None, 90, 300)           1638300   \n",
      "_________________________________________________________________\n",
      "max_pooling1d_2 (MaxPooling1 (None, 30, 300)           0         \n",
      "_________________________________________________________________\n",
      "conv1d_5 (Conv1D)            (None, 30, 300)           540300    \n",
      "_________________________________________________________________\n",
      "flatten_1 (Flatten)          (None, 9000)              0         \n",
      "_________________________________________________________________\n",
      "dense_1 (Dense)              (None, 150)               1350150   \n",
      "_________________________________________________________________\n",
      "dropout_1 (Dropout)          (None, 150)               0         \n",
      "_________________________________________________________________\n",
      "dense_2 (Dense)              (None, 4)                 604       \n",
      "_________________________________________________________________\n",
      "activation_1 (Activation)    (None, 4)                 0         \n",
      "=================================================================\n",
      "Total params: 4,758,459\n",
      "Trainable params: 4,758,459\n",
      "Non-trainable params: 0\n",
      "_________________________________________________________________\n"
     ]
    }
   ],
   "source": [
    "model = Sequential()\n",
    "model.add(Conv1D(225, 4, padding='same', input_shape=(720, 1), activation='relu'))\n",
    "model.add(MaxPooling1D(8, padding='same'))\n",
    "model.add(Conv1D(200, 3, padding='same', activation='relu'))\n",
    "model.add(Conv1D(780, 7, padding='same', activation='relu'))\n",
    "#model.add(MaxPooling1D(4, padding='same'))\n",
    "model.add(Conv1D(300, 7, padding='same', activation='relu'))\n",
    "model.add(MaxPooling1D(3, padding='same'))\n",
    "model.add(Conv1D(300, 6, padding='same', activation='relu'))\n",
    "\n",
    "\n",
    "model.add(Flatten())\n",
    "model.add(Dense(150,activation='relu'))\n",
    "model.add(Dropout(0.244))\n",
    "model.add(Dense(num_class))\n",
    "model.add(Activation('softmax'))\n",
    "model.summary()\n",
    "model.compile(\n",
    "loss='categorical_crossentropy', \n",
    "optimizer='adam', \n",
    "metrics=['accuracy'])"
   ]
  },
  {
   "cell_type": "code",
   "execution_count": 0,
   "metadata": {
    "colab": {},
    "colab_type": "code",
    "id": "Dy1Up0sQVkyL"
   },
   "outputs": [],
   "source": [
    "model1 = Sequential()\n",
    "model1.add(Conv1D(90, 8, padding='same', input_shape=(720, 1), activation='relu'))\n",
    "model1.add(MaxPooling1D(3, padding='same'))\n",
    "model1.add(Conv1D(90, 8, padding='same', activation='relu'))\n",
    "model1.add(Conv1D(30, 8, padding='same', activation='relu'))\n",
    "model1.add(MaxPooling1D(4, padding='same'))\n",
    "model1.add(Conv1D(24, 6, padding='same', activation='relu'))\n",
    "model1.add(MaxPooling1D(2, padding='same'))\n",
    "model1.add(Conv1D(24, 8, padding='same', activation='relu'))\n",
    "\n",
    "\n",
    "model1.add(Flatten())\n",
    "model1.add(Dense(168,activation='relu'))\n",
    "model1.add(Dropout(0.4))\n",
    "model1.add(Dense(num_class))\n",
    "model1.add(Activation('softmax'))\n",
    "#model1.summary()\n",
    "model1.compile(\n",
    "loss='categorical_crossentropy', \n",
    "optimizer='adam', \n",
    "metrics=['accuracy'])"
   ]
  },
  {
   "cell_type": "code",
   "execution_count": 0,
   "metadata": {
    "colab": {},
    "colab_type": "code",
    "id": "ZS4X7q1LHbLV"
   },
   "outputs": [],
   "source": [
    "model2 = Sequential()\n",
    "model2.add(Conv1D(90, 8, padding='same', input_shape=(720, 1), activation='relu'))\n",
    "model2.add(MaxPooling1D(3, padding='same'))\n",
    "model2.add(Conv1D(90, 8, padding='same', activation='relu'))\n",
    "model2.add(Conv1D(30, 8, padding='same', activation='relu'))\n",
    "model2.add(MaxPooling1D(4, padding='same'))\n",
    "model2.add(Conv1D(24, 6, padding='same', activation='relu'))\n",
    "model2.add(MaxPooling1D(2, padding='same'))\n",
    "model2.add(Conv1D(24, 8, padding='same', activation='relu'))\n",
    "\n",
    "\n",
    "model2.add(Flatten())\n",
    "model2.add(Dense(168,activation='relu'))\n",
    "model2.add(Dropout(0.4))\n",
    "model2.add(Dense(num_class))\n",
    "model2.add(Activation('softmax'))\n",
    "#model2.summary()\n",
    "model2.compile(\n",
    "loss='categorical_crossentropy', \n",
    "optimizer='adam', \n",
    "metrics=['accuracy'])"
   ]
  },
  {
   "cell_type": "code",
   "execution_count": 0,
   "metadata": {
    "colab": {},
    "colab_type": "code",
    "id": "-u-kv_jo7skI"
   },
   "outputs": [],
   "source": [
    "model3 = Sequential()\n",
    "model3.add(Conv1D(90, 8, padding='same', input_shape=(720, 1), activation='relu'))\n",
    "model3.add(MaxPooling1D(3, padding='same'))\n",
    "model3.add(Conv1D(90, 8, padding='same', activation='relu'))\n",
    "model3.add(Conv1D(30, 8, padding='same', activation='relu'))\n",
    "model3.add(MaxPooling1D(4, padding='same'))\n",
    "model3.add(Conv1D(24, 6, padding='same', activation='relu'))\n",
    "model3.add(MaxPooling1D(2, padding='same'))\n",
    "model3.add(Conv1D(24, 8, padding='same', activation='relu'))\n",
    "\n",
    "\n",
    "model3.add(Flatten())\n",
    "model3.add(Dense(168,activation='relu'))\n",
    "model3.add(Dropout(0.4))\n",
    "model3.add(Dense(num_class))\n",
    "model3.add(Activation('softmax'))\n",
    "#model2.summary()\n",
    "model3.compile(\n",
    "loss='categorical_crossentropy', \n",
    "optimizer='adam', \n",
    "metrics=['accuracy'])"
   ]
  },
  {
   "cell_type": "code",
   "execution_count": 0,
   "metadata": {
    "colab": {},
    "colab_type": "code",
    "id": "tcIlGiCvK8gV"
   },
   "outputs": [],
   "source": [
    "callback = Tensorboard(logdir='drive/path/to/log')"
   ]
  },
  {
   "cell_type": "code",
   "execution_count": 0,
   "metadata": {
    "colab": {},
    "colab_type": "code",
    "id": "fSuUFpuTFtza"
   },
   "outputs": [],
   "source": [
    "train_X = np.reshape(Xtrain1, (-1, 720, 1))\n",
    "test_X = np.reshape(Xtest1, (-1, 720, 1))\n",
    "train_Xw1 = np.reshape(xWavetrainL1, (-1, 720, 1))\n",
    "test_Xw1 = np.reshape(xWavetestL1, (-1, 720, 1))\n",
    "train_Xw3 = np.reshape(xWavetrainL3, (-1, 720, 1))\n",
    "test_Xw3 = np.reshape(xWavetestL3, (-1, 720, 1))"
   ]
  },
  {
   "cell_type": "code",
   "execution_count": 0,
   "metadata": {
    "colab": {},
    "colab_type": "code",
    "id": "RyUmQwOP3xsT"
   },
   "outputs": [],
   "source": [
    "early_stopping = EarlyStopping(patience = 0,verbose=1)"
   ]
  },
  {
   "cell_type": "code",
   "execution_count": 34,
   "metadata": {
    "colab": {
     "base_uri": "https://localhost:8080/",
     "height": 187
    },
    "colab_type": "code",
    "id": "F6DbwiawAZ28",
    "outputId": "f80fa82f-3efe-4928-f9c3-610976524954"
   },
   "outputs": [
    {
     "name": "stdout",
     "output_type": "stream",
     "text": [
      "Train on 3693 samples, validate on 195 samples\n",
      "Epoch 1/120\n",
      "3693/3693 [==============================] - 9s 2ms/step - loss: 1.3222 - acc: 0.3894 - val_loss: 0.9266 - val_acc: 0.5385\n",
      "Epoch 2/120\n",
      "3693/3693 [==============================] - 5s 1ms/step - loss: 0.9755 - acc: 0.5066 - val_loss: 0.8982 - val_acc: 0.5590\n",
      "Epoch 3/120\n",
      "3693/3693 [==============================] - 5s 1ms/step - loss: 0.9424 - acc: 0.5294 - val_loss: 0.8588 - val_acc: 0.5641\n",
      "Epoch 4/120\n",
      "3693/3693 [==============================] - 5s 1ms/step - loss: 0.9389 - acc: 0.5348 - val_loss: 0.8612 - val_acc: 0.5795\n",
      "Epoch 00004: early stopping\n"
     ]
    }
   ],
   "source": [
    "\n",
    "fit1 = model.fit(train_X, Ytrain1,\n",
    "              batch_size=150,\n",
    "              epochs=120,\n",
    "              verbose=1,\n",
    "              validation_split=0.05,\n",
    "              callbacks = [early_stopping]\n",
    "              ##callbacks=[callback]\n",
    "                )\n"
   ]
  },
  {
   "cell_type": "code",
   "execution_count": 36,
   "metadata": {
    "colab": {
     "base_uri": "https://localhost:8080/",
     "height": 119
    },
    "colab_type": "code",
    "id": "IcsuPTbeGrNE",
    "outputId": "13e946eb-256c-4e78-9f9e-2bedc35e92fe"
   },
   "outputs": [
    {
     "name": "stdout",
     "output_type": "stream",
     "text": [
      "Train on 3693 samples, validate on 195 samples\n",
      "Epoch 1/120\n",
      "3693/3693 [==============================] - 4s 1ms/step - loss: 0.9426 - acc: 0.5340 - val_loss: 0.8769 - val_acc: 0.5641\n",
      "Epoch 2/120\n",
      "3693/3693 [==============================] - 4s 1ms/step - loss: 0.9262 - acc: 0.5383 - val_loss: 0.9312 - val_acc: 0.5282\n",
      "Epoch 00002: early stopping\n"
     ]
    }
   ],
   "source": [
    "fit2 = model.fit(train_Xw1, Ytrain1,\n",
    "              batch_size=150,\n",
    "              epochs=120,\n",
    "              verbose=1,\n",
    "              validation_split=0.05,\n",
    "              callbacks = [early_stopping]\n",
    "              ##callbacks=[callback]\n",
    "                )\n"
   ]
  },
  {
   "cell_type": "code",
   "execution_count": 38,
   "metadata": {
    "colab": {
     "base_uri": "https://localhost:8080/",
     "height": 153
    },
    "colab_type": "code",
    "id": "Pvqa0A-fG3rF",
    "outputId": "0ef6a374-bbfe-44ac-9b10-f5619d708dff"
   },
   "outputs": [
    {
     "name": "stdout",
     "output_type": "stream",
     "text": [
      "Train on 3693 samples, validate on 195 samples\n",
      "Epoch 1/120\n",
      "3693/3693 [==============================] - 4s 1ms/step - loss: 0.9226 - acc: 0.5426 - val_loss: 0.8880 - val_acc: 0.5795\n",
      "Epoch 2/120\n",
      "3693/3693 [==============================] - 4s 1ms/step - loss: 0.9081 - acc: 0.5502 - val_loss: 0.8792 - val_acc: 0.5641\n",
      "Epoch 3/120\n",
      "3693/3693 [==============================] - 4s 1ms/step - loss: 0.8904 - acc: 0.5686 - val_loss: 0.8948 - val_acc: 0.5590\n",
      "Epoch 00003: early stopping\n"
     ]
    }
   ],
   "source": [
    "fit3 = model.fit(train_Xw3, Ytrain1,\n",
    "              batch_size=150,\n",
    "              epochs=120,\n",
    "              verbose=1,\n",
    "              validation_split=0.05,\n",
    "              callbacks = [early_stopping]\n",
    "              ##callbacks=[callback]\n",
    "                )"
   ]
  },
  {
   "cell_type": "code",
   "execution_count": 0,
   "metadata": {
    "colab": {
     "base_uri": "https://localhost:8080/",
     "height": 187
    },
    "colab_type": "code",
    "id": "LVYJwolQ8fxt",
    "outputId": "fab89aa8-7ba4-424e-da18-55b4f79f14af"
   },
   "outputs": [
    {
     "name": "stdout",
     "output_type": "stream",
     "text": [
      "Train on 3713 samples, validate on 175 samples\n",
      "Epoch 1/80\n",
      "3713/3713 [==============================] - 2s 504us/step - loss: 1.1249 - acc: 0.3962 - val_loss: 0.9869 - val_acc: 0.4914\n",
      "Epoch 2/80\n",
      "3713/3713 [==============================] - 1s 257us/step - loss: 1.0231 - acc: 0.4705 - val_loss: 0.8918 - val_acc: 0.5657\n",
      "Epoch 3/80\n",
      "3713/3713 [==============================] - 1s 252us/step - loss: 0.9862 - acc: 0.4861 - val_loss: 0.8853 - val_acc: 0.5314\n",
      "Epoch 4/80\n",
      "3713/3713 [==============================] - 1s 249us/step - loss: 0.9523 - acc: 0.5217 - val_loss: 0.9438 - val_acc: 0.5371\n",
      "Epoch 00004: early stopping\n"
     ]
    }
   ],
   "source": [
    "fit4 = model3.fit(train_Xw4, Ytrain1,\n",
    "              batch_size=150,\n",
    "              epochs=80,\n",
    "              verbose=1,\n",
    "              validation_split=0.045,\n",
    "              callbacks = [early_stopping]\n",
    "              ##callbacks=[callback]\n",
    "                )"
   ]
  },
  {
   "cell_type": "code",
   "execution_count": 0,
   "metadata": {
    "colab": {},
    "colab_type": "code",
    "id": "QwPMeI4SK0Mn"
   },
   "outputs": [],
   "source": [
    "callback = Tensorboard(logdir='drive/path/to/log')"
   ]
  },
  {
   "cell_type": "code",
   "execution_count": 39,
   "metadata": {
    "colab": {
     "base_uri": "https://localhost:8080/",
     "height": 51
    },
    "colab_type": "code",
    "id": "ik-jN99WAZ0k",
    "outputId": "4e87f756-ff38-4d58-e211-9213b79f0d57"
   },
   "outputs": [
    {
     "name": "stdout",
     "output_type": "stream",
     "text": [
      "Test loss: 1.025508722895948\n",
      "Test accuracy: 0.5221193413184994\n"
     ]
    }
   ],
   "source": [
    "##学習回数60回\n",
    "score = model.evaluate(test_X, Ytest1,verbose=0)\n",
    "\n",
    "print('Test loss:', score[0])\n",
    "print('Test accuracy:', score[1])"
   ]
  },
  {
   "cell_type": "code",
   "execution_count": 40,
   "metadata": {
    "colab": {
     "base_uri": "https://localhost:8080/",
     "height": 51
    },
    "colab_type": "code",
    "id": "4R2YwZdjaZ2R",
    "outputId": "48b52dcd-2cfc-49c2-90f6-e094fce124c2"
   },
   "outputs": [
    {
     "name": "stdout",
     "output_type": "stream",
     "text": [
      "Test loss: 0.9518803676950588\n",
      "Test accuracy: 0.5473251028806584\n"
     ]
    }
   ],
   "source": [
    "##wavelet level1\n",
    "score = model.evaluate(test_Xw1, Ytest1,verbose=0)\n",
    "print('Test loss:', score[0])\n",
    "print('Test accuracy:', score[1])"
   ]
  },
  {
   "cell_type": "code",
   "execution_count": 0,
   "metadata": {
    "colab": {},
    "colab_type": "code",
    "id": "z0YKZ3dpJjNW"
   },
   "outputs": [],
   "source": [
    "from sklearn import metrics"
   ]
  },
  {
   "cell_type": "code",
   "execution_count": 41,
   "metadata": {
    "colab": {
     "base_uri": "https://localhost:8080/",
     "height": 51
    },
    "colab_type": "code",
    "id": "tmPptv8NS_Zz",
    "outputId": "995b0b78-2106-4a50-a70a-d99b1278a8c8"
   },
   "outputs": [
    {
     "name": "stdout",
     "output_type": "stream",
     "text": [
      "Test loss: 0.9501500794426404\n",
      "Test accuracy: 0.5416666664213801\n"
     ]
    }
   ],
   "source": [
    "##wavelet level3\n",
    "score = model.evaluate(test_Xw3, Ytest1,verbose=0)\n",
    "print('Test loss:', score[0])\n",
    "print('Test accuracy:', score[1])"
   ]
  },
  {
   "cell_type": "code",
   "execution_count": 0,
   "metadata": {
    "colab": {
     "base_uri": "https://localhost:8080/",
     "height": 51
    },
    "colab_type": "code",
    "id": "IFor3YSZ8zDl",
    "outputId": "0d97c25c-fdcd-4608-f694-9c9c8a77a9fe"
   },
   "outputs": [
    {
     "name": "stdout",
     "output_type": "stream",
     "text": [
      "Test loss: 0.9426698213742103\n",
      "Test accuracy: 0.5246913580246914\n"
     ]
    }
   ],
   "source": [
    "score = model2.evaluate(test_Xw4, Ytest1,verbose=0)\n",
    "print('Test loss:', score[0])\n",
    "print('Test accuracy:', score[1])"
   ]
  },
  {
   "cell_type": "code",
   "execution_count": 0,
   "metadata": {
    "colab": {
     "base_uri": "https://localhost:8080/",
     "height": 34
    },
    "colab_type": "code",
    "id": "VLnHGUHPJ_3V",
    "outputId": "d17c991a-1435-4278-d477-42848f81543e"
   },
   "outputs": [
    {
     "name": "stdout",
     "output_type": "stream",
     "text": [
      "1944/1944 [==============================] - 0s 247us/step\n"
     ]
    }
   ],
   "source": [
    " y_pred = model.predict_classes(test_X, batch_size=150, verbose=1)"
   ]
  },
  {
   "cell_type": "code",
   "execution_count": 0,
   "metadata": {
    "colab": {
     "base_uri": "https://localhost:8080/",
     "height": 34
    },
    "colab_type": "code",
    "id": "UyAs_V7ybqnQ",
    "outputId": "07b66ed5-08b8-4e65-fc07-dcc3589c8f83"
   },
   "outputs": [
    {
     "name": "stdout",
     "output_type": "stream",
     "text": [
      "1944/1944 [==============================] - 0s 211us/step\n"
     ]
    }
   ],
   "source": [
    " y_pred1 = model1.predict_classes(test_Xw1, batch_size=150, verbose=1)"
   ]
  },
  {
   "cell_type": "code",
   "execution_count": 0,
   "metadata": {
    "colab": {
     "base_uri": "https://localhost:8080/",
     "height": 34
    },
    "colab_type": "code",
    "id": "whTlR6XaIXuV",
    "outputId": "3807faac-69c7-42f7-f4f4-2fbf01e333df"
   },
   "outputs": [
    {
     "name": "stdout",
     "output_type": "stream",
     "text": [
      "1944/1944 [==============================] - 0s 172us/step\n"
     ]
    }
   ],
   "source": [
    "y_pred2 = model2.predict_classes(test_Xw3, batch_size=150, verbose=1)"
   ]
  },
  {
   "cell_type": "code",
   "execution_count": 0,
   "metadata": {
    "colab": {
     "base_uri": "https://localhost:8080/",
     "height": 34
    },
    "colab_type": "code",
    "id": "7xCjzTu783_h",
    "outputId": "40d5269b-84b4-42c1-9207-ea411704ff5b"
   },
   "outputs": [
    {
     "name": "stdout",
     "output_type": "stream",
     "text": [
      "1944/1944 [==============================] - 0s 184us/step\n"
     ]
    }
   ],
   "source": [
    "y_pred3 = model3.predict_classes(test_Xw4, batch_size=150, verbose=1)"
   ]
  },
  {
   "cell_type": "code",
   "execution_count": 0,
   "metadata": {
    "colab": {
     "base_uri": "https://localhost:8080/",
     "height": 34
    },
    "colab_type": "code",
    "id": "U1K6GDVzKhLo",
    "outputId": "8eacdf7f-60aa-4bdd-c1de-e48bbbdf068d"
   },
   "outputs": [
    {
     "data": {
      "text/plain": [
       "array([1, 3, 1, ..., 1, 3, 3])"
      ]
     },
     "execution_count": 31,
     "metadata": {
      "tags": []
     },
     "output_type": "execute_result"
    }
   ],
   "source": [
    "y_pred"
   ]
  },
  {
   "cell_type": "code",
   "execution_count": 0,
   "metadata": {
    "colab": {
     "base_uri": "https://localhost:8080/",
     "height": 34
    },
    "colab_type": "code",
    "id": "sB8oBObuLC5S",
    "outputId": "b0943f31-ce8f-4732-dd2a-50772647d5ab"
   },
   "outputs": [
    {
     "data": {
      "text/plain": [
       "(1944,)"
      ]
     },
     "execution_count": 36,
     "metadata": {
      "tags": []
     },
     "output_type": "execute_result"
    }
   ],
   "source": [
    "y_pred.shape"
   ]
  },
  {
   "cell_type": "code",
   "execution_count": 0,
   "metadata": {
    "colab": {
     "base_uri": "https://localhost:8080/",
     "height": 34
    },
    "colab_type": "code",
    "id": "PAfKNAAjLli6",
    "outputId": "1ebbc277-5265-47cf-a8f9-c911f7a4fc90"
   },
   "outputs": [
    {
     "data": {
      "text/plain": [
       "dtype('int64')"
      ]
     },
     "execution_count": 61,
     "metadata": {
      "tags": []
     },
     "output_type": "execute_result"
    }
   ],
   "source": [
    "y_pred.dtype"
   ]
  },
  {
   "cell_type": "code",
   "execution_count": 0,
   "metadata": {
    "colab": {
     "base_uri": "https://localhost:8080/",
     "height": 34
    },
    "colab_type": "code",
    "id": "d9mAXFPaI4G6",
    "outputId": "733ab54f-f044-4e62-94b4-822a1fed6f3e"
   },
   "outputs": [
    {
     "data": {
      "text/plain": [
       "dtype('int64')"
      ]
     },
     "execution_count": 72,
     "metadata": {
      "tags": []
     },
     "output_type": "execute_result"
    }
   ],
   "source": [
    "y_pred1.dtype"
   ]
  },
  {
   "cell_type": "code",
   "execution_count": 0,
   "metadata": {
    "colab": {
     "base_uri": "https://localhost:8080/",
     "height": 34
    },
    "colab_type": "code",
    "id": "xpyhWhvaI4jK",
    "outputId": "eeb7bebe-37fb-4150-c2d7-640f3f6b745f"
   },
   "outputs": [
    {
     "data": {
      "text/plain": [
       "dtype('int64')"
      ]
     },
     "execution_count": 73,
     "metadata": {
      "tags": []
     },
     "output_type": "execute_result"
    }
   ],
   "source": [
    "y_pred2.dtype"
   ]
  },
  {
   "cell_type": "code",
   "execution_count": 0,
   "metadata": {
    "colab": {
     "base_uri": "https://localhost:8080/",
     "height": 34
    },
    "colab_type": "code",
    "id": "ZXFDPNk_886G",
    "outputId": "25b4dd1f-b52b-4e61-f2ed-2e841816e18f"
   },
   "outputs": [
    {
     "data": {
      "text/plain": [
       "dtype('int64')"
      ]
     },
     "execution_count": 62,
     "metadata": {
      "tags": []
     },
     "output_type": "execute_result"
    }
   ],
   "source": [
    "y_pred3.dtype"
   ]
  },
  {
   "cell_type": "code",
   "execution_count": 0,
   "metadata": {
    "colab": {
     "base_uri": "https://localhost:8080/",
     "height": 85
    },
    "colab_type": "code",
    "id": "IpofO95w_0Xk",
    "outputId": "225beaa4-7f1b-4b51-fbf5-3e2a6a94d52b"
   },
   "outputs": [
    {
     "name": "stdout",
     "output_type": "stream",
     "text": [
      "confusion matrix:\n",
      "[[535  26  87]\n",
      " [188 249 211]\n",
      " [214 184 250]]\n"
     ]
    }
   ],
   "source": [
    "##normal\n",
    "print(\"confusion matrix:\")\n",
    "print(metrics.confusion_matrix(ytest_int, y_pred))"
   ]
  },
  {
   "cell_type": "code",
   "execution_count": 0,
   "metadata": {
    "colab": {
     "base_uri": "https://localhost:8080/",
     "height": 34
    },
    "colab_type": "code",
    "id": "YULGpA39JgPt",
    "outputId": "aeb007db-197a-4dc1-9ca1-497bde0c8734"
   },
   "outputs": [
    {
     "data": {
      "text/plain": [
       "0.5318930041152263"
      ]
     },
     "execution_count": 67,
     "metadata": {
      "tags": []
     },
     "output_type": "execute_result"
    }
   ],
   "source": [
    "(535 + 249 + 250)/1944"
   ]
  },
  {
   "cell_type": "code",
   "execution_count": 0,
   "metadata": {
    "colab": {
     "base_uri": "https://localhost:8080/",
     "height": 85
    },
    "colab_type": "code",
    "id": "I_6Gsw23ados",
    "outputId": "376b8a80-bc58-41ec-f45f-44745e0aa129"
   },
   "outputs": [
    {
     "name": "stdout",
     "output_type": "stream",
     "text": [
      "confusion matrix:\n",
      "[[555  32  61]\n",
      " [229 169 250]\n",
      " [236 141 271]]\n"
     ]
    }
   ],
   "source": [
    "##wavelet level1\n",
    "print(\"confusion matrix:\")\n",
    "print(metrics.confusion_matrix(ytest_int, y_pred1))"
   ]
  },
  {
   "cell_type": "code",
   "execution_count": 0,
   "metadata": {
    "colab": {
     "base_uri": "https://localhost:8080/",
     "height": 34
    },
    "colab_type": "code",
    "id": "QlpWHRSWJsVv",
    "outputId": "83e992de-feb6-4a84-92c3-42eaeed7763f"
   },
   "outputs": [
    {
     "data": {
      "text/plain": [
       "0.5118312757201646"
      ]
     },
     "execution_count": 68,
     "metadata": {
      "tags": []
     },
     "output_type": "execute_result"
    }
   ],
   "source": [
    "(555 + 169 + 271)/1944"
   ]
  },
  {
   "cell_type": "code",
   "execution_count": 0,
   "metadata": {
    "colab": {
     "base_uri": "https://localhost:8080/",
     "height": 85
    },
    "colab_type": "code",
    "id": "mTZreMEKJHC5",
    "outputId": "f144ea58-ff32-4198-ab31-30d513d0fb6b"
   },
   "outputs": [
    {
     "name": "stdout",
     "output_type": "stream",
     "text": [
      "confusion matrix:\n",
      "[[549  69  30]\n",
      " [215 371  62]\n",
      " [236 276 136]]\n"
     ]
    }
   ],
   "source": [
    "##bwavelet level3\n",
    "print(\"confusion matrix:\")\n",
    "print(metrics.confusion_matrix(ytest_int, y_pred2))"
   ]
  },
  {
   "cell_type": "code",
   "execution_count": 0,
   "metadata": {
    "colab": {
     "base_uri": "https://localhost:8080/",
     "height": 34
    },
    "colab_type": "code",
    "id": "EjcCi24GJy2j",
    "outputId": "d8ff4b09-865e-4689-a4c7-51cc8ca3b7e4"
   },
   "outputs": [
    {
     "data": {
      "text/plain": [
       "0.5432098765432098"
      ]
     },
     "execution_count": 69,
     "metadata": {
      "tags": []
     },
     "output_type": "execute_result"
    }
   ],
   "source": [
    "(549+371+136)/1944"
   ]
  },
  {
   "cell_type": "code",
   "execution_count": 0,
   "metadata": {
    "colab": {
     "base_uri": "https://localhost:8080/",
     "height": 85
    },
    "colab_type": "code",
    "id": "W61l75cz9B4r",
    "outputId": "401e79b6-a162-426d-841a-5dcf9a1bef72"
   },
   "outputs": [
    {
     "name": "stdout",
     "output_type": "stream",
     "text": [
      "confusion matrix:\n",
      "[[552  11  85]\n",
      " [262 143 243]\n",
      " [265 106 277]]\n"
     ]
    }
   ],
   "source": [
    "#level4\n",
    "print(\"confusion matrix:\")\n",
    "print(metrics.confusion_matrix(ytest_int, y_pred3))"
   ]
  },
  {
   "cell_type": "code",
   "execution_count": 0,
   "metadata": {
    "colab": {
     "base_uri": "https://localhost:8080/",
     "height": 34
    },
    "colab_type": "code",
    "id": "0UduemFN9Z_b",
    "outputId": "71f9ddf8-0f24-4e9d-af13-5f6f2d2f620b"
   },
   "outputs": [
    {
     "data": {
      "text/plain": [
       "0.5"
      ]
     },
     "execution_count": 70,
     "metadata": {
      "tags": []
     },
     "output_type": "execute_result"
    }
   ],
   "source": [
    "(552+143+277)/1944"
   ]
  },
  {
   "cell_type": "code",
   "execution_count": 0,
   "metadata": {
    "colab": {
     "base_uri": "https://localhost:8080/",
     "height": 34
    },
    "colab_type": "code",
    "id": "_8Afm5fjWSjY",
    "outputId": "72f7b08d-175a-46d0-af95-6eff35b2aa87"
   },
   "outputs": [
    {
     "name": "stdout",
     "output_type": "stream",
     "text": [
      "1944/1944 [==============================] - 4s 2ms/step\n"
     ]
    }
   ],
   "source": [
    "y_pred1 = model1.predict_classes(test_X, batch_size=168, verbose=1)"
   ]
  },
  {
   "cell_type": "code",
   "execution_count": 0,
   "metadata": {
    "colab": {
     "base_uri": "https://localhost:8080/",
     "height": 85
    },
    "colab_type": "code",
    "id": "ozSSIeWmJLYt",
    "outputId": "9700ba52-768a-43c6-e030-7bbaf3ee59e0"
   },
   "outputs": [
    {
     "name": "stdout",
     "output_type": "stream",
     "text": [
      "confusion matrix:\n",
      "[[378 107 163]\n",
      " [112 316 220]\n",
      " [145 206 297]]\n"
     ]
    }
   ],
   "source": [
    "##batch100, epoch times:30\n",
    "print(\"confusion matrix:\")\n",
    "print(metrics.confusion_matrix(ytest_int, y_pred1))"
   ]
  },
  {
   "cell_type": "code",
   "execution_count": 0,
   "metadata": {
    "colab": {},
    "colab_type": "code",
    "id": "Y2gxglEmr8ZI"
   },
   "outputs": [],
   "source": [
    "class \n",
    "\n"
   ]
  }
 ],
 "metadata": {
  "accelerator": "GPU",
  "colab": {
   "name": "TUCNNmodel2612",
   "provenance": [],
   "version": "0.3.2"
  },
  "kernelspec": {
   "display_name": "Python 3",
   "language": "python",
   "name": "python3"
  },
  "language_info": {
   "codemirror_mode": {
    "name": "ipython",
    "version": 3
   },
   "file_extension": ".py",
   "mimetype": "text/x-python",
   "name": "python",
   "nbconvert_exporter": "python",
   "pygments_lexer": "ipython3",
   "version": "3.7.3"
  }
 },
 "nbformat": 4,
 "nbformat_minor": 1
}
