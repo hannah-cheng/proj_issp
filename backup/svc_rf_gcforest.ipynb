{
 "cells": [
  {
   "cell_type": "code",
   "execution_count": 1,
   "metadata": {
    "ExecuteTime": {
     "end_time": "2019-10-30T04:18:35.358131Z",
     "start_time": "2019-10-30T04:17:43.295231Z"
    }
   },
   "outputs": [
    {
     "name": "stdout",
     "output_type": "stream",
     "text": [
      "[[1.48331343e+09 1.48323007e+09 8.33620000e+04 ... 5.64170404e+01\n",
      "  1.60000000e+01 1.14833204e+02]\n",
      " [1.48455206e+09 1.48455100e+09 1.06000000e+03 ... 2.60000000e+01\n",
      "  7.00000000e+00 3.50218979e+01]\n",
      " [1.48352021e+09 1.48351758e+09 2.63000000e+03 ... 2.36250000e+01\n",
      "  1.65000000e+01 2.54833483e+01]\n",
      " ...\n",
      " [1.51388452e+09 1.51381656e+09 6.79560000e+04 ... 3.38450000e+02\n",
      "  1.30500000e+02 4.96051960e+02]\n",
      " [1.51346061e+09 1.51343285e+09 2.77630000e+04 ... 1.40525000e+03\n",
      "  7.52000000e+02 1.57189748e+03]\n",
      " [1.51249285e+09 1.51246326e+09 2.95860000e+04 ... 7.00000000e+01\n",
      "  3.20000000e+01 6.64018072e+01]]\n",
      "[0 0 0 ... 2 2 2]\n"
     ]
    }
   ],
   "source": [
    "import os\n",
    "import numpy as np\n",
    "import pandas as pd\n",
    "\n",
    "project_folder = r'D:\\issp_data\\feature_csv'\n",
    "arr_X, arr_y = np.ones(10).reshape((-1, 10)), np.array([1])\n",
    "\n",
    "for fl in os.listdir(project_folder):\n",
    "    pa = os.path.join(project_folder, fl)\n",
    "    _ = pd.read_csv(pa).values\n",
    "    arr_X = np.vstack((arr_X, _))\n",
    "    arr_y = np.hstack((arr_y, np.array([int(fl[31])] * _.shape[0])))\n",
    "    \n",
    "arr_X, arr_y = arr_X[1:, ], arr_y[1:]\n",
    "print(arr_X)\n",
    "print(arr_y)"
   ]
  },
  {
   "cell_type": "code",
   "execution_count": 2,
   "metadata": {
    "ExecuteTime": {
     "end_time": "2019-10-30T04:18:37.829870Z",
     "start_time": "2019-10-30T04:18:35.363449Z"
    }
   },
   "outputs": [],
   "source": [
    "from sklearn.model_selection import train_test_split\n",
    "from sklearn.metrics import confusion_matrix\n",
    "from sklearn.utils import resample\n",
    "from sklearn.svm import SVC\n",
    "from sklearn.ensemble import RandomForestClassifier"
   ]
  },
  {
   "cell_type": "code",
   "execution_count": 3,
   "metadata": {
    "ExecuteTime": {
     "end_time": "2019-10-30T04:18:53.421323Z",
     "start_time": "2019-10-30T04:18:37.835522Z"
    }
   },
   "outputs": [
    {
     "name": "stdout",
     "output_type": "stream",
     "text": [
      "(6643944, 10) (1660987, 10)\n",
      "(6643944,) (1660987,)\n",
      "(22146, 10) (22146,)\n",
      "(5536, 10) (5536,)\n"
     ]
    }
   ],
   "source": [
    "X_train, X_test, y_train, y_test = train_test_split(\n",
    "    arr_X, arr_y, test_size=0.2, stratify=arr_y, random_state=None)\n",
    "print(X_train.shape, X_test.shape)\n",
    "print(y_train.shape, y_test.shape)\n",
    "\n",
    "X_train, y_train = resample(X_train, y_train, n_samples=X_train.shape[0]//300,\n",
    "                            replace=False, stratify=y_train, random_state=None)\n",
    "X_test, y_test = resample(X_test, y_test, n_samples=X_test.shape[0]//300,\n",
    "                          replace=False, stratify=y_test, random_state=None)\n",
    "print(X_train.shape, y_train.shape)\n",
    "print(X_test.shape, y_test.shape)"
   ]
  },
  {
   "cell_type": "code",
   "execution_count": null,
   "metadata": {},
   "outputs": [],
   "source": [
    "# SVC, too slow and poor accuracy, so ignore it!\n",
    "# clf = SVC(gamma='auto', verbose=2)\n",
    "# clf.fit(X_train, y_train)\n",
    "# y_pred = clf.predict(X_test)\n",
    "# print(clf.score(X_test, y_test))\n",
    "# print(confusion_matrix(y_test, y_pred))"
   ]
  },
  {
   "cell_type": "code",
   "execution_count": 6,
   "metadata": {
    "ExecuteTime": {
     "end_time": "2019-10-30T04:03:40.008828Z",
     "start_time": "2019-10-30T04:03:37.922215Z"
    }
   },
   "outputs": [
    {
     "name": "stderr",
     "output_type": "stream",
     "text": [
      "C:\\Anaconda3\\lib\\site-packages\\sklearn\\ensemble\\forest.py:245: FutureWarning: The default value of n_estimators will change from 10 in version 0.20 to 100 in 0.22.\n",
      "  \"10 in version 0.20 to 100 in 0.22.\", FutureWarning)\n",
      "[Parallel(n_jobs=1)]: Using backend SequentialBackend with 1 concurrent workers.\n",
      "[Parallel(n_jobs=1)]: Done   1 out of   1 | elapsed:    0.0s remaining:    0.0s\n"
     ]
    },
    {
     "name": "stdout",
     "output_type": "stream",
     "text": [
      "building tree 1 of 10\n",
      "building tree 2 of 10\n",
      "building tree 3 of 10\n",
      "building tree 4 of 10\n",
      "building tree 5 of 10\n",
      "building tree 6 of 10\n",
      "building tree 7 of 10\n",
      "building tree 8 of 10\n",
      "building tree 9 of 10\n",
      "building tree 10 of 10\n"
     ]
    },
    {
     "name": "stderr",
     "output_type": "stream",
     "text": [
      "[Parallel(n_jobs=1)]: Done  10 out of  10 | elapsed:    1.2s finished\n",
      "[Parallel(n_jobs=1)]: Using backend SequentialBackend with 1 concurrent workers.\n"
     ]
    },
    {
     "name": "stdout",
     "output_type": "stream",
     "text": [
      "0.6735910404624278\n",
      "[[2327  363  115]\n",
      " [ 613  805  201]\n",
      " [ 230  285  597]]\n"
     ]
    },
    {
     "name": "stderr",
     "output_type": "stream",
     "text": [
      "[Parallel(n_jobs=1)]: Done   1 out of   1 | elapsed:    0.5s remaining:    0.0s\n",
      "[Parallel(n_jobs=1)]: Done  10 out of  10 | elapsed:    0.5s finished\n",
      "[Parallel(n_jobs=1)]: Using backend SequentialBackend with 1 concurrent workers.\n",
      "[Parallel(n_jobs=1)]: Done   1 out of   1 | elapsed:    0.0s remaining:    0.0s\n",
      "[Parallel(n_jobs=1)]: Done  10 out of  10 | elapsed:    0.0s finished\n"
     ]
    }
   ],
   "source": [
    "# Random forest\n",
    "clf_2 = RandomForestClassifier(verbose=2)\n",
    "clf_2.fit(X_train, y_train)\n",
    "y_pred = clf_2.predict(X_test)\n",
    "print(clf_2.score(X_test, y_test))\n",
    "print(confusion_matrix(y_test, y_pred))"
   ]
  },
  {
   "cell_type": "code",
   "execution_count": 14,
   "metadata": {
    "ExecuteTime": {
     "end_time": "2019-10-30T05:41:17.058165Z",
     "start_time": "2019-10-30T05:41:16.997196Z"
    }
   },
   "outputs": [],
   "source": [
    "def get_config():\n",
    "    config = {}\n",
    "    ca_config = {}\n",
    "    ca_config['random_state'] = 0\n",
    "    ca_config['max_layers'] = 100\n",
    "    ca_config['early_stopping_rounds'] = 3\n",
    "#     ca_config[\"n_classes\"] = 10\n",
    "    ca_config['n_classes'] = 3\n",
    "    ca_config['estimators'] = []\n",
    "    ca_config['estimators'].append({\n",
    "        'n_folds': 5, \n",
    "        'type': 'XGBClassifier', \n",
    "        'n_estimators': 10, \n",
    "        'max_depth': 5,\n",
    "        'objective': 'multi:softprob', \n",
    "#         'silent': True, \n",
    "        'silent': False, \n",
    "        'nthread': -1, \n",
    "        'learning_rate': 0.1\n",
    "    })\n",
    "#     ca_config['estimators'].append({\n",
    "#         'n_folds': 5, \n",
    "#         'type': 'RandomForestClassifier', \n",
    "#         'n_estimators': 10, \n",
    "#         'max_depth': None, \n",
    "#         'n_jobs': -1\n",
    "#     })\n",
    "    ca_config[\"estimators\"].append({\n",
    "        'n_folds': 5, \n",
    "        'type': 'ExtraTreesClassifier', \n",
    "        'n_estimators': 10, \n",
    "        'max_depth': None, \n",
    "        'n_jobs': -1\n",
    "    })\n",
    "#     ca_config[\"estimators\"].append({\n",
    "#         'n_folds': 5, \n",
    "#         'type': 'LogisticRegression'\n",
    "#     })\n",
    "    config[\"cascade\"] = ca_config\n",
    "    \n",
    "    return config"
   ]
  },
  {
   "cell_type": "code",
   "execution_count": 15,
   "metadata": {
    "ExecuteTime": {
     "end_time": "2019-10-30T05:42:33.265606Z",
     "start_time": "2019-10-30T05:41:21.905773Z"
    },
    "scrolled": true
   },
   "outputs": [
    {
     "name": "stderr",
     "output_type": "stream",
     "text": [
      "[ 2019-10-30 13:41:21,913][cascade_classifier.fit_transform] X_groups_train.shape=[(22146, 10)],y_train.shape=(22146,),X_groups_test.shape=no_test,y_test.shape=no_test\n",
      "[ 2019-10-30 13:41:21,920][cascade_classifier.fit_transform] group_dims=[10]\n",
      "[ 2019-10-30 13:41:21,923][cascade_classifier.fit_transform] group_starts=[0]\n",
      "[ 2019-10-30 13:41:21,925][cascade_classifier.fit_transform] group_ends=[10]\n",
      "[ 2019-10-30 13:41:21,927][cascade_classifier.fit_transform] X_train.shape=(22146, 10),X_test.shape=(0, 10)\n",
      "[ 2019-10-30 13:41:21,972][cascade_classifier.fit_transform] [layer=0] look_indexs=[0], X_cur_train.shape=(22146, 10), X_cur_test.shape=(0, 10)\n",
      "[ 2019-10-30 13:41:22,967][kfold_wrapper.log_eval_metrics] Accuracy(layer_0 - estimator_0 - 5_folds.train_0.predict)=70.05%\n",
      "[ 2019-10-30 13:41:23,803][kfold_wrapper.log_eval_metrics] Accuracy(layer_0 - estimator_0 - 5_folds.train_1.predict)=69.28%\n",
      "[ 2019-10-30 13:41:24,723][kfold_wrapper.log_eval_metrics] Accuracy(layer_0 - estimator_0 - 5_folds.train_2.predict)=69.56%\n",
      "[ 2019-10-30 13:41:25,580][kfold_wrapper.log_eval_metrics] Accuracy(layer_0 - estimator_0 - 5_folds.train_3.predict)=68.12%\n",
      "[ 2019-10-30 13:41:26,402][kfold_wrapper.log_eval_metrics] Accuracy(layer_0 - estimator_0 - 5_folds.train_4.predict)=70.26%\n",
      "[ 2019-10-30 13:41:26,408][kfold_wrapper.log_eval_metrics] Accuracy(layer_0 - estimator_0 - 5_folds.train_cv.predict)=69.45%\n",
      "[ 2019-10-30 13:41:26,844][kfold_wrapper.log_eval_metrics] Accuracy(layer_0 - estimator_1 - 5_folds.train_0.predict)=66.88%\n",
      "[ 2019-10-30 13:41:27,344][kfold_wrapper.log_eval_metrics] Accuracy(layer_0 - estimator_1 - 5_folds.train_1.predict)=65.51%\n",
      "[ 2019-10-30 13:41:27,843][kfold_wrapper.log_eval_metrics] Accuracy(layer_0 - estimator_1 - 5_folds.train_2.predict)=66.04%\n",
      "[ 2019-10-30 13:41:28,344][kfold_wrapper.log_eval_metrics] Accuracy(layer_0 - estimator_1 - 5_folds.train_3.predict)=66.15%\n",
      "[ 2019-10-30 13:41:28,827][kfold_wrapper.log_eval_metrics] Accuracy(layer_0 - estimator_1 - 5_folds.train_4.predict)=65.70%\n",
      "[ 2019-10-30 13:41:28,834][kfold_wrapper.log_eval_metrics] Accuracy(layer_0 - estimator_1 - 5_folds.train_cv.predict)=66.06%\n",
      "[ 2019-10-30 13:41:28,843][cascade_classifier.calc_accuracy] Accuracy(layer_0 - train.classifier_average)=67.79%\n",
      "[ 2019-10-30 13:41:28,859][cascade_classifier.fit_transform] [layer=1] look_indexs=[0], X_cur_train.shape=(22146, 16), X_cur_test.shape=(0, 16)\n",
      "[ 2019-10-30 13:41:30,088][kfold_wrapper.log_eval_metrics] Accuracy(layer_1 - estimator_0 - 5_folds.train_0.predict)=69.86%\n",
      "[ 2019-10-30 13:41:31,486][kfold_wrapper.log_eval_metrics] Accuracy(layer_1 - estimator_0 - 5_folds.train_1.predict)=68.98%\n",
      "[ 2019-10-30 13:41:32,673][kfold_wrapper.log_eval_metrics] Accuracy(layer_1 - estimator_0 - 5_folds.train_2.predict)=69.65%\n",
      "[ 2019-10-30 13:41:33,938][kfold_wrapper.log_eval_metrics] Accuracy(layer_1 - estimator_0 - 5_folds.train_3.predict)=69.56%\n",
      "[ 2019-10-30 13:41:35,130][kfold_wrapper.log_eval_metrics] Accuracy(layer_1 - estimator_0 - 5_folds.train_4.predict)=70.19%\n",
      "[ 2019-10-30 13:41:35,135][kfold_wrapper.log_eval_metrics] Accuracy(layer_1 - estimator_0 - 5_folds.train_cv.predict)=69.65%\n",
      "[ 2019-10-30 13:41:35,556][kfold_wrapper.log_eval_metrics] Accuracy(layer_1 - estimator_1 - 5_folds.train_0.predict)=66.88%\n",
      "[ 2019-10-30 13:41:36,125][kfold_wrapper.log_eval_metrics] Accuracy(layer_1 - estimator_1 - 5_folds.train_1.predict)=66.64%\n",
      "[ 2019-10-30 13:41:36,625][kfold_wrapper.log_eval_metrics] Accuracy(layer_1 - estimator_1 - 5_folds.train_2.predict)=65.41%\n",
      "[ 2019-10-30 13:41:37,125][kfold_wrapper.log_eval_metrics] Accuracy(layer_1 - estimator_1 - 5_folds.train_3.predict)=65.23%\n",
      "[ 2019-10-30 13:41:37,626][kfold_wrapper.log_eval_metrics] Accuracy(layer_1 - estimator_1 - 5_folds.train_4.predict)=67.50%\n",
      "[ 2019-10-30 13:41:37,632][kfold_wrapper.log_eval_metrics] Accuracy(layer_1 - estimator_1 - 5_folds.train_cv.predict)=66.33%\n",
      "[ 2019-10-30 13:41:37,641][cascade_classifier.calc_accuracy] Accuracy(layer_1 - train.classifier_average)=68.29%\n",
      "[ 2019-10-30 13:41:37,656][cascade_classifier.fit_transform] [layer=2] look_indexs=[0], X_cur_train.shape=(22146, 16), X_cur_test.shape=(0, 16)\n",
      "[ 2019-10-30 13:41:38,885][kfold_wrapper.log_eval_metrics] Accuracy(layer_2 - estimator_0 - 5_folds.train_0.predict)=69.50%\n",
      "[ 2019-10-30 13:41:39,997][kfold_wrapper.log_eval_metrics] Accuracy(layer_2 - estimator_0 - 5_folds.train_1.predict)=69.75%\n",
      "[ 2019-10-30 13:41:41,179][kfold_wrapper.log_eval_metrics] Accuracy(layer_2 - estimator_0 - 5_folds.train_2.predict)=68.75%\n",
      "[ 2019-10-30 13:41:42,379][kfold_wrapper.log_eval_metrics] Accuracy(layer_2 - estimator_0 - 5_folds.train_3.predict)=70.04%\n",
      "[ 2019-10-30 13:41:43,528][kfold_wrapper.log_eval_metrics] Accuracy(layer_2 - estimator_0 - 5_folds.train_4.predict)=69.08%\n",
      "[ 2019-10-30 13:41:43,533][kfold_wrapper.log_eval_metrics] Accuracy(layer_2 - estimator_0 - 5_folds.train_cv.predict)=69.43%\n",
      "[ 2019-10-30 13:41:43,958][kfold_wrapper.log_eval_metrics] Accuracy(layer_2 - estimator_1 - 5_folds.train_0.predict)=67.52%\n",
      "[ 2019-10-30 13:41:44,473][kfold_wrapper.log_eval_metrics] Accuracy(layer_2 - estimator_1 - 5_folds.train_1.predict)=66.70%\n",
      "[ 2019-10-30 13:41:45,008][kfold_wrapper.log_eval_metrics] Accuracy(layer_2 - estimator_1 - 5_folds.train_2.predict)=65.73%\n",
      "[ 2019-10-30 13:41:45,509][kfold_wrapper.log_eval_metrics] Accuracy(layer_2 - estimator_1 - 5_folds.train_3.predict)=65.59%\n",
      "[ 2019-10-30 13:41:46,056][kfold_wrapper.log_eval_metrics] Accuracy(layer_2 - estimator_1 - 5_folds.train_4.predict)=65.04%\n",
      "[ 2019-10-30 13:41:46,062][kfold_wrapper.log_eval_metrics] Accuracy(layer_2 - estimator_1 - 5_folds.train_cv.predict)=66.12%\n",
      "[ 2019-10-30 13:41:46,071][cascade_classifier.calc_accuracy] Accuracy(layer_2 - train.classifier_average)=67.92%\n",
      "[ 2019-10-30 13:41:46,083][cascade_classifier.fit_transform] [layer=3] look_indexs=[0], X_cur_train.shape=(22146, 16), X_cur_test.shape=(0, 16)\n",
      "[ 2019-10-30 13:41:47,664][kfold_wrapper.log_eval_metrics] Accuracy(layer_3 - estimator_0 - 5_folds.train_0.predict)=68.89%\n",
      "[ 2019-10-30 13:41:48,837][kfold_wrapper.log_eval_metrics] Accuracy(layer_3 - estimator_0 - 5_folds.train_1.predict)=69.35%\n",
      "[ 2019-10-30 13:41:50,219][kfold_wrapper.log_eval_metrics] Accuracy(layer_3 - estimator_0 - 5_folds.train_2.predict)=69.02%\n",
      "[ 2019-10-30 13:41:51,621][kfold_wrapper.log_eval_metrics] Accuracy(layer_3 - estimator_0 - 5_folds.train_3.predict)=68.80%\n",
      "[ 2019-10-30 13:41:52,800][kfold_wrapper.log_eval_metrics] Accuracy(layer_3 - estimator_0 - 5_folds.train_4.predict)=70.30%\n",
      "[ 2019-10-30 13:41:52,804][kfold_wrapper.log_eval_metrics] Accuracy(layer_3 - estimator_0 - 5_folds.train_cv.predict)=69.27%\n",
      "[ 2019-10-30 13:41:53,198][kfold_wrapper.log_eval_metrics] Accuracy(layer_3 - estimator_1 - 5_folds.train_0.predict)=65.80%\n",
      "[ 2019-10-30 13:41:53,554][kfold_wrapper.log_eval_metrics] Accuracy(layer_3 - estimator_1 - 5_folds.train_1.predict)=65.91%\n",
      "[ 2019-10-30 13:41:54,022][kfold_wrapper.log_eval_metrics] Accuracy(layer_3 - estimator_1 - 5_folds.train_2.predict)=65.73%\n",
      "[ 2019-10-30 13:41:54,538][kfold_wrapper.log_eval_metrics] Accuracy(layer_3 - estimator_1 - 5_folds.train_3.predict)=67.71%\n",
      "[ 2019-10-30 13:41:55,049][kfold_wrapper.log_eval_metrics] Accuracy(layer_3 - estimator_1 - 5_folds.train_4.predict)=66.21%\n",
      "[ 2019-10-30 13:41:55,058][kfold_wrapper.log_eval_metrics] Accuracy(layer_3 - estimator_1 - 5_folds.train_cv.predict)=66.27%\n",
      "[ 2019-10-30 13:41:55,059][cascade_classifier.calc_accuracy] Accuracy(layer_3 - train.classifier_average)=68.09%\n",
      "[ 2019-10-30 13:41:55,081][cascade_classifier.fit_transform] [layer=4] look_indexs=[0], X_cur_train.shape=(22146, 16), X_cur_test.shape=(0, 16)\n",
      "[ 2019-10-30 13:41:56,329][kfold_wrapper.log_eval_metrics] Accuracy(layer_4 - estimator_0 - 5_folds.train_0.predict)=68.98%\n",
      "[ 2019-10-30 13:41:57,486][kfold_wrapper.log_eval_metrics] Accuracy(layer_4 - estimator_0 - 5_folds.train_1.predict)=68.92%\n",
      "[ 2019-10-30 13:41:58,608][kfold_wrapper.log_eval_metrics] Accuracy(layer_4 - estimator_0 - 5_folds.train_2.predict)=70.35%\n",
      "[ 2019-10-30 13:41:59,746][kfold_wrapper.log_eval_metrics] Accuracy(layer_4 - estimator_0 - 5_folds.train_3.predict)=68.86%\n",
      "[ 2019-10-30 13:42:00,916][kfold_wrapper.log_eval_metrics] Accuracy(layer_4 - estimator_0 - 5_folds.train_4.predict)=69.69%\n"
     ]
    },
    {
     "name": "stderr",
     "output_type": "stream",
     "text": [
      "[ 2019-10-30 13:42:00,921][kfold_wrapper.log_eval_metrics] Accuracy(layer_4 - estimator_0 - 5_folds.train_cv.predict)=69.36%\n",
      "[ 2019-10-30 13:42:01,436][kfold_wrapper.log_eval_metrics] Accuracy(layer_4 - estimator_1 - 5_folds.train_0.predict)=66.52%\n",
      "[ 2019-10-30 13:42:01,868][kfold_wrapper.log_eval_metrics] Accuracy(layer_4 - estimator_1 - 5_folds.train_1.predict)=66.46%\n",
      "[ 2019-10-30 13:42:02,336][kfold_wrapper.log_eval_metrics] Accuracy(layer_4 - estimator_1 - 5_folds.train_2.predict)=66.29%\n",
      "[ 2019-10-30 13:42:02,817][kfold_wrapper.log_eval_metrics] Accuracy(layer_4 - estimator_1 - 5_folds.train_3.predict)=66.38%\n",
      "[ 2019-10-30 13:42:03,317][kfold_wrapper.log_eval_metrics] Accuracy(layer_4 - estimator_1 - 5_folds.train_4.predict)=67.10%\n",
      "[ 2019-10-30 13:42:03,322][kfold_wrapper.log_eval_metrics] Accuracy(layer_4 - estimator_1 - 5_folds.train_cv.predict)=66.55%\n",
      "[ 2019-10-30 13:42:03,327][cascade_classifier.calc_accuracy] Accuracy(layer_4 - train.classifier_average)=68.35%\n",
      "[ 2019-10-30 13:42:03,334][cascade_classifier.fit_transform] [layer=5] look_indexs=[0], X_cur_train.shape=(22146, 16), X_cur_test.shape=(0, 16)\n",
      "[ 2019-10-30 13:42:04,629][kfold_wrapper.log_eval_metrics] Accuracy(layer_5 - estimator_0 - 5_folds.train_0.predict)=70.38%\n",
      "[ 2019-10-30 13:42:05,918][kfold_wrapper.log_eval_metrics] Accuracy(layer_5 - estimator_0 - 5_folds.train_1.predict)=68.31%\n",
      "[ 2019-10-30 13:42:07,122][kfold_wrapper.log_eval_metrics] Accuracy(layer_5 - estimator_0 - 5_folds.train_2.predict)=68.89%\n",
      "[ 2019-10-30 13:42:08,289][kfold_wrapper.log_eval_metrics] Accuracy(layer_5 - estimator_0 - 5_folds.train_3.predict)=69.18%\n",
      "[ 2019-10-30 13:42:09,529][kfold_wrapper.log_eval_metrics] Accuracy(layer_5 - estimator_0 - 5_folds.train_4.predict)=69.76%\n",
      "[ 2019-10-30 13:42:09,533][kfold_wrapper.log_eval_metrics] Accuracy(layer_5 - estimator_0 - 5_folds.train_cv.predict)=69.30%\n",
      "[ 2019-10-30 13:42:10,051][kfold_wrapper.log_eval_metrics] Accuracy(layer_5 - estimator_1 - 5_folds.train_0.predict)=65.06%\n",
      "[ 2019-10-30 13:42:10,584][kfold_wrapper.log_eval_metrics] Accuracy(layer_5 - estimator_1 - 5_folds.train_1.predict)=65.82%\n",
      "[ 2019-10-30 13:42:11,100][kfold_wrapper.log_eval_metrics] Accuracy(layer_5 - estimator_1 - 5_folds.train_2.predict)=64.71%\n",
      "[ 2019-10-30 13:42:11,615][kfold_wrapper.log_eval_metrics] Accuracy(layer_5 - estimator_1 - 5_folds.train_3.predict)=65.93%\n",
      "[ 2019-10-30 13:42:12,149][kfold_wrapper.log_eval_metrics] Accuracy(layer_5 - estimator_1 - 5_folds.train_4.predict)=67.37%\n",
      "[ 2019-10-30 13:42:12,155][kfold_wrapper.log_eval_metrics] Accuracy(layer_5 - estimator_1 - 5_folds.train_cv.predict)=65.78%\n",
      "[ 2019-10-30 13:42:12,168][cascade_classifier.calc_accuracy] Accuracy(layer_5 - train.classifier_average)=67.80%\n",
      "[ 2019-10-30 13:42:12,183][cascade_classifier.fit_transform] [layer=6] look_indexs=[0], X_cur_train.shape=(22146, 16), X_cur_test.shape=(0, 16)\n",
      "[ 2019-10-30 13:42:13,768][kfold_wrapper.log_eval_metrics] Accuracy(layer_6 - estimator_0 - 5_folds.train_0.predict)=68.40%\n",
      "[ 2019-10-30 13:42:14,893][kfold_wrapper.log_eval_metrics] Accuracy(layer_6 - estimator_0 - 5_folds.train_1.predict)=68.60%\n",
      "[ 2019-10-30 13:42:16,070][kfold_wrapper.log_eval_metrics] Accuracy(layer_6 - estimator_0 - 5_folds.train_2.predict)=69.45%\n",
      "[ 2019-10-30 13:42:17,227][kfold_wrapper.log_eval_metrics] Accuracy(layer_6 - estimator_0 - 5_folds.train_3.predict)=69.00%\n",
      "[ 2019-10-30 13:42:18,551][kfold_wrapper.log_eval_metrics] Accuracy(layer_6 - estimator_0 - 5_folds.train_4.predict)=69.90%\n",
      "[ 2019-10-30 13:42:18,556][kfold_wrapper.log_eval_metrics] Accuracy(layer_6 - estimator_0 - 5_folds.train_cv.predict)=69.07%\n",
      "[ 2019-10-30 13:42:18,959][kfold_wrapper.log_eval_metrics] Accuracy(layer_6 - estimator_1 - 5_folds.train_0.predict)=66.39%\n",
      "[ 2019-10-30 13:42:19,347][kfold_wrapper.log_eval_metrics] Accuracy(layer_6 - estimator_1 - 5_folds.train_1.predict)=65.64%\n",
      "[ 2019-10-30 13:42:19,862][kfold_wrapper.log_eval_metrics] Accuracy(layer_6 - estimator_1 - 5_folds.train_2.predict)=66.43%\n",
      "[ 2019-10-30 13:42:20,349][kfold_wrapper.log_eval_metrics] Accuracy(layer_6 - estimator_1 - 5_folds.train_3.predict)=65.27%\n",
      "[ 2019-10-30 13:42:20,865][kfold_wrapper.log_eval_metrics] Accuracy(layer_6 - estimator_1 - 5_folds.train_4.predict)=66.87%\n",
      "[ 2019-10-30 13:42:20,872][kfold_wrapper.log_eval_metrics] Accuracy(layer_6 - estimator_1 - 5_folds.train_cv.predict)=66.12%\n",
      "[ 2019-10-30 13:42:20,882][cascade_classifier.calc_accuracy] Accuracy(layer_6 - train.classifier_average)=67.80%\n",
      "[ 2019-10-30 13:42:20,897][cascade_classifier.fit_transform] [layer=7] look_indexs=[0], X_cur_train.shape=(22146, 16), X_cur_test.shape=(0, 16)\n",
      "[ 2019-10-30 13:42:22,365][kfold_wrapper.log_eval_metrics] Accuracy(layer_7 - estimator_0 - 5_folds.train_0.predict)=69.62%\n",
      "[ 2019-10-30 13:42:23,567][kfold_wrapper.log_eval_metrics] Accuracy(layer_7 - estimator_0 - 5_folds.train_1.predict)=68.80%\n",
      "[ 2019-10-30 13:42:24,757][kfold_wrapper.log_eval_metrics] Accuracy(layer_7 - estimator_0 - 5_folds.train_2.predict)=69.14%\n",
      "[ 2019-10-30 13:42:25,891][kfold_wrapper.log_eval_metrics] Accuracy(layer_7 - estimator_0 - 5_folds.train_3.predict)=68.32%\n",
      "[ 2019-10-30 13:42:27,016][kfold_wrapper.log_eval_metrics] Accuracy(layer_7 - estimator_0 - 5_folds.train_4.predict)=70.26%\n",
      "[ 2019-10-30 13:42:27,021][kfold_wrapper.log_eval_metrics] Accuracy(layer_7 - estimator_0 - 5_folds.train_cv.predict)=69.23%\n",
      "[ 2019-10-30 13:42:27,412][kfold_wrapper.log_eval_metrics] Accuracy(layer_7 - estimator_1 - 5_folds.train_0.predict)=66.23%\n",
      "[ 2019-10-30 13:42:27,929][kfold_wrapper.log_eval_metrics] Accuracy(layer_7 - estimator_1 - 5_folds.train_1.predict)=66.19%\n",
      "[ 2019-10-30 13:42:28,412][kfold_wrapper.log_eval_metrics] Accuracy(layer_7 - estimator_1 - 5_folds.train_2.predict)=66.54%\n",
      "[ 2019-10-30 13:42:28,912][kfold_wrapper.log_eval_metrics] Accuracy(layer_7 - estimator_1 - 5_folds.train_3.predict)=65.95%\n",
      "[ 2019-10-30 13:42:29,435][kfold_wrapper.log_eval_metrics] Accuracy(layer_7 - estimator_1 - 5_folds.train_4.predict)=66.33%\n",
      "[ 2019-10-30 13:42:29,446][kfold_wrapper.log_eval_metrics] Accuracy(layer_7 - estimator_1 - 5_folds.train_cv.predict)=66.25%\n",
      "[ 2019-10-30 13:42:29,459][cascade_classifier.calc_accuracy] Accuracy(layer_7 - train.classifier_average)=68.11%\n",
      "[ 2019-10-30 13:42:29,473][cascade_classifier.fit_transform] [Result][Optimal Level Detected] opt_layer_num=5, accuracy_train=68.35%, accuracy_test=0.00%\n",
      "[ 2019-10-30 13:42:29,638][cascade_classifier.transform] X_groups_test.shape=[(5536, 10)]\n",
      "[ 2019-10-30 13:42:29,651][cascade_classifier.transform] group_dims=[10]\n",
      "[ 2019-10-30 13:42:29,653][cascade_classifier.transform] X_test.shape=(5536, 10)\n",
      "[ 2019-10-30 13:42:29,656][cascade_classifier.transform] [layer=0] look_indexs=[0], X_cur_test.shape=(5536, 10)\n",
      "[ 2019-10-30 13:42:30,347][cascade_classifier.transform] [layer=1] look_indexs=[0], X_cur_test.shape=(5536, 16)\n",
      "[ 2019-10-30 13:42:31,079][cascade_classifier.transform] [layer=2] look_indexs=[0], X_cur_test.shape=(5536, 16)\n",
      "[ 2019-10-30 13:42:31,769][cascade_classifier.transform] [layer=3] look_indexs=[0], X_cur_test.shape=(5536, 16)\n",
      "[ 2019-10-30 13:42:32,500][cascade_classifier.transform] [layer=4] look_indexs=[0], X_cur_test.shape=(5536, 16)\n"
     ]
    }
   ],
   "source": [
    "# gcForest\n",
    "import sys\n",
    "sys.path.insert(0, r'gcForest\\lib')\n",
    "from gcforest.gcforest import GCForest\n",
    "\n",
    "config = get_config()\n",
    "gc = GCForest(config) # should be a dict\n",
    "# gc = GCForest()\n",
    "X_train_enc = gc.fit_transform(X_train, y_train)\n",
    "y_pred = gc.predict(X_test)"
   ]
  },
  {
   "cell_type": "code",
   "execution_count": 16,
   "metadata": {
    "ExecuteTime": {
     "end_time": "2019-10-30T05:43:54.837592Z",
     "start_time": "2019-10-30T05:43:54.803158Z"
    }
   },
   "outputs": [
    {
     "name": "stdout",
     "output_type": "stream",
     "text": [
      "[[0.52522033 0.29208654 0.18269314 0.5        0.5        0.        ]\n",
      " [0.61395633 0.21771622 0.16832742 0.9        0.1        0.        ]\n",
      " [0.68931395 0.15765026 0.1530358  1.         0.         0.        ]\n",
      " ...\n",
      " [0.66884786 0.17649694 0.1546552  0.9        0.1        0.        ]\n",
      " [0.1739515  0.21009067 0.6159578  0.         0.2        0.8       ]\n",
      " [0.34427795 0.45491296 0.20080912 0.4        0.5        0.1       ]]\n",
      "[1 1 2 ... 0 0 1]\n"
     ]
    }
   ],
   "source": [
    "print(X_train_enc)\n",
    "print(y_pred)"
   ]
  },
  {
   "cell_type": "code",
   "execution_count": null,
   "metadata": {},
   "outputs": [],
   "source": []
  }
 ],
 "metadata": {
  "kernelspec": {
   "display_name": "Python 3",
   "language": "python",
   "name": "python3"
  },
  "language_info": {
   "codemirror_mode": {
    "name": "ipython",
    "version": 3
   },
   "file_extension": ".py",
   "mimetype": "text/x-python",
   "name": "python",
   "nbconvert_exporter": "python",
   "pygments_lexer": "ipython3",
   "version": "3.7.3"
  }
 },
 "nbformat": 4,
 "nbformat_minor": 4
}
