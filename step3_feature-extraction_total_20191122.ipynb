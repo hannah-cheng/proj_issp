{
 "cells": [
  {
   "cell_type": "code",
   "execution_count": 1,
   "metadata": {
    "ExecuteTime": {
     "end_time": "2019-11-22T06:25:19.941141Z",
     "start_time": "2019-11-22T06:25:06.165968Z"
    }
   },
   "outputs": [],
   "source": [
    "import os\n",
    "import dask.dataframe as dd\n",
    "import featuretools as ft\n",
    "import pandas as pd"
   ]
  },
  {
   "cell_type": "code",
   "execution_count": 2,
   "metadata": {
    "ExecuteTime": {
     "end_time": "2019-11-22T06:25:19.952307Z",
     "start_time": "2019-11-22T06:25:19.944663Z"
    }
   },
   "outputs": [],
   "source": [
    "path_profile = r'D:\\issp_data\\zok_ssp_2017.csv'\n",
    "log_root = r'D:\\issp_data\\fe_log'\n",
    "\n",
    "out_root = r'D:\\issp_data\\features_total'  # we really need it??"
   ]
  },
  {
   "cell_type": "code",
   "execution_count": 3,
   "metadata": {
    "ExecuteTime": {
     "end_time": "2019-11-22T06:25:21.816198Z",
     "start_time": "2019-11-22T06:25:19.959600Z"
    },
    "scrolled": true
   },
   "outputs": [],
   "source": [
    "# loading user profile data\n",
    "read = lambda p, cs=None: pd.read_csv(p, encoding='shift-jis', usecols=cs)\n",
    "usecols = [col for col in list(read(path_profile)) if r'名称' not in col]\n",
    "dropcols = [\n",
    "    r'モニターID',\n",
    "    r'暗号化ID(40桁)'\n",
    "]\n",
    "columns_jp2en = {\n",
    "        r'モニターID(11桁)': r'Monitor_ID'\n",
    "}\n",
    "\n",
    "df_profile = read(path_profile, usecols)\\\n",
    "                .drop(columns=dropcols)\\\n",
    "                .rename(columns=columns_jp2en)"
   ]
  },
  {
   "cell_type": "code",
   "execution_count": 4,
   "metadata": {
    "ExecuteTime": {
     "end_time": "2019-11-22T06:52:48.374872Z",
     "start_time": "2019-11-22T06:25:21.819996Z"
    },
    "scrolled": true
   },
   "outputs": [
    {
     "name": "stderr",
     "output_type": "stream",
     "text": [
      "C:\\Anaconda3\\lib\\site-packages\\dask\\dataframe\\io\\csv.py:385: UserWarning: Warning zip compression does not support breaking apart files\n",
      "Please ensure that each individual file can fit in memory and\n",
      "use the keyword ``blocksize=None to remove this message``\n",
      "Setting ``blocksize=None``\n",
      "  \"Setting ``blocksize=None``\" % compression\n"
     ]
    },
    {
     "name": "stdout",
     "output_type": "stream",
     "text": [
      "D:\\issp_data\\fe_log\\s35809_MobileApp_201701_104628_os.csv (Delayed('int-d38fa561-b027-46b8-976f-61e85e0a31ae'), 2)\n",
      "D:\\issp_data\\fe_log\\s35809_MobileApp_201701_104628_0logfe.csv computing now ...\n",
      ">> s35809_MobileApp_201701_104628_0_features.csv save file completed!\n",
      "D:\\issp_data\\fe_log\\s35809_MobileApp_201701_104628_1logfe.csv computing now ...\n"
     ]
    },
    {
     "name": "stderr",
     "output_type": "stream",
     "text": [
      "C:\\Anaconda3\\lib\\site-packages\\dask\\dataframe\\io\\csv.py:385: UserWarning: Warning zip compression does not support breaking apart files\n",
      "Please ensure that each individual file can fit in memory and\n",
      "use the keyword ``blocksize=None to remove this message``\n",
      "Setting ``blocksize=None``\n",
      "  \"Setting ``blocksize=None``\" % compression\n"
     ]
    },
    {
     "name": "stdout",
     "output_type": "stream",
     "text": [
      ">> s35809_MobileApp_201701_104628_1_features.csv save file completed!\n",
      "D:\\issp_data\\fe_log\\s35809_MobileApp_201701_104628_2logfe.csv computing now ...\n"
     ]
    },
    {
     "name": "stderr",
     "output_type": "stream",
     "text": [
      "C:\\Anaconda3\\lib\\site-packages\\dask\\dataframe\\io\\csv.py:385: UserWarning: Warning zip compression does not support breaking apart files\n",
      "Please ensure that each individual file can fit in memory and\n",
      "use the keyword ``blocksize=None to remove this message``\n",
      "Setting ``blocksize=None``\n",
      "  \"Setting ``blocksize=None``\" % compression\n"
     ]
    },
    {
     "name": "stdout",
     "output_type": "stream",
     "text": [
      ">> s35809_MobileApp_201701_104628_2_features.csv save file completed!\n",
      "D:\\issp_data\\fe_log\\s35809_MobileApp_201702_104645_os.csv (Delayed('int-7a4b4935-b310-4af3-9dd2-8ef7f355ed47'), 2)\n",
      "D:\\issp_data\\fe_log\\s35809_MobileApp_201702_104645_0logfe.csv computing now ...\n"
     ]
    },
    {
     "name": "stderr",
     "output_type": "stream",
     "text": [
      "C:\\Anaconda3\\lib\\site-packages\\dask\\dataframe\\io\\csv.py:385: UserWarning: Warning zip compression does not support breaking apart files\n",
      "Please ensure that each individual file can fit in memory and\n",
      "use the keyword ``blocksize=None to remove this message``\n",
      "Setting ``blocksize=None``\n",
      "  \"Setting ``blocksize=None``\" % compression\n"
     ]
    },
    {
     "name": "stdout",
     "output_type": "stream",
     "text": [
      ">> s35809_MobileApp_201702_104645_0_features.csv save file completed!\n",
      "D:\\issp_data\\fe_log\\s35809_MobileApp_201702_104645_1logfe.csv computing now ...\n"
     ]
    },
    {
     "name": "stderr",
     "output_type": "stream",
     "text": [
      "C:\\Anaconda3\\lib\\site-packages\\dask\\dataframe\\io\\csv.py:385: UserWarning: Warning zip compression does not support breaking apart files\n",
      "Please ensure that each individual file can fit in memory and\n",
      "use the keyword ``blocksize=None to remove this message``\n",
      "Setting ``blocksize=None``\n",
      "  \"Setting ``blocksize=None``\" % compression\n"
     ]
    },
    {
     "name": "stdout",
     "output_type": "stream",
     "text": [
      ">> s35809_MobileApp_201702_104645_1_features.csv save file completed!\n",
      "D:\\issp_data\\fe_log\\s35809_MobileApp_201702_104645_2logfe.csv computing now ...\n"
     ]
    },
    {
     "name": "stderr",
     "output_type": "stream",
     "text": [
      "C:\\Anaconda3\\lib\\site-packages\\dask\\dataframe\\io\\csv.py:385: UserWarning: Warning zip compression does not support breaking apart files\n",
      "Please ensure that each individual file can fit in memory and\n",
      "use the keyword ``blocksize=None to remove this message``\n",
      "Setting ``blocksize=None``\n",
      "  \"Setting ``blocksize=None``\" % compression\n"
     ]
    },
    {
     "name": "stdout",
     "output_type": "stream",
     "text": [
      ">> s35809_MobileApp_201702_104645_2_features.csv save file completed!\n"
     ]
    },
    {
     "name": "stderr",
     "output_type": "stream",
     "text": [
      "C:\\Anaconda3\\lib\\site-packages\\dask\\dataframe\\io\\csv.py:385: UserWarning: Warning zip compression does not support breaking apart files\n",
      "Please ensure that each individual file can fit in memory and\n",
      "use the keyword ``blocksize=None to remove this message``\n",
      "Setting ``blocksize=None``\n",
      "  \"Setting ``blocksize=None``\" % compression\n"
     ]
    },
    {
     "name": "stdout",
     "output_type": "stream",
     "text": [
      "D:\\issp_data\\fe_log\\s35809_MobileApp_201703_104646_os.csv (Delayed('int-841b472e-0e0f-4007-a572-ec091b36ed18'), 2)\n",
      "D:\\issp_data\\fe_log\\s35809_MobileApp_201703_104646_0logfe.csv computing now ...\n",
      ">> s35809_MobileApp_201703_104646_0_features.csv save file completed!\n",
      "D:\\issp_data\\fe_log\\s35809_MobileApp_201703_104646_1logfe.csv computing now ...\n"
     ]
    },
    {
     "name": "stderr",
     "output_type": "stream",
     "text": [
      "C:\\Anaconda3\\lib\\site-packages\\dask\\dataframe\\io\\csv.py:385: UserWarning: Warning zip compression does not support breaking apart files\n",
      "Please ensure that each individual file can fit in memory and\n",
      "use the keyword ``blocksize=None to remove this message``\n",
      "Setting ``blocksize=None``\n",
      "  \"Setting ``blocksize=None``\" % compression\n"
     ]
    },
    {
     "name": "stdout",
     "output_type": "stream",
     "text": [
      ">> s35809_MobileApp_201703_104646_1_features.csv save file completed!\n",
      "D:\\issp_data\\fe_log\\s35809_MobileApp_201703_104646_2logfe.csv computing now ...\n"
     ]
    },
    {
     "name": "stderr",
     "output_type": "stream",
     "text": [
      "C:\\Anaconda3\\lib\\site-packages\\dask\\dataframe\\io\\csv.py:385: UserWarning: Warning zip compression does not support breaking apart files\n",
      "Please ensure that each individual file can fit in memory and\n",
      "use the keyword ``blocksize=None to remove this message``\n",
      "Setting ``blocksize=None``\n",
      "  \"Setting ``blocksize=None``\" % compression\n"
     ]
    },
    {
     "name": "stdout",
     "output_type": "stream",
     "text": [
      ">> s35809_MobileApp_201703_104646_2_features.csv save file completed!\n",
      "D:\\issp_data\\fe_log\\s35809_MobileApp_201704_104647_os.csv (Delayed('int-a33e3688-b198-4046-acf7-4af1af02d154'), 2)\n",
      "D:\\issp_data\\fe_log\\s35809_MobileApp_201704_104647_0logfe.csv computing now ...\n"
     ]
    },
    {
     "name": "stderr",
     "output_type": "stream",
     "text": [
      "C:\\Anaconda3\\lib\\site-packages\\dask\\dataframe\\io\\csv.py:385: UserWarning: Warning zip compression does not support breaking apart files\n",
      "Please ensure that each individual file can fit in memory and\n",
      "use the keyword ``blocksize=None to remove this message``\n",
      "Setting ``blocksize=None``\n",
      "  \"Setting ``blocksize=None``\" % compression\n"
     ]
    },
    {
     "name": "stdout",
     "output_type": "stream",
     "text": [
      ">> s35809_MobileApp_201704_104647_0_features.csv save file completed!\n",
      "D:\\issp_data\\fe_log\\s35809_MobileApp_201704_104647_1logfe.csv computing now ...\n"
     ]
    },
    {
     "name": "stderr",
     "output_type": "stream",
     "text": [
      "C:\\Anaconda3\\lib\\site-packages\\dask\\dataframe\\io\\csv.py:385: UserWarning: Warning zip compression does not support breaking apart files\n",
      "Please ensure that each individual file can fit in memory and\n",
      "use the keyword ``blocksize=None to remove this message``\n",
      "Setting ``blocksize=None``\n",
      "  \"Setting ``blocksize=None``\" % compression\n"
     ]
    },
    {
     "name": "stdout",
     "output_type": "stream",
     "text": [
      ">> s35809_MobileApp_201704_104647_1_features.csv save file completed!\n",
      "D:\\issp_data\\fe_log\\s35809_MobileApp_201704_104647_2logfe.csv computing now ...\n"
     ]
    },
    {
     "name": "stderr",
     "output_type": "stream",
     "text": [
      "C:\\Anaconda3\\lib\\site-packages\\dask\\dataframe\\io\\csv.py:385: UserWarning: Warning zip compression does not support breaking apart files\n",
      "Please ensure that each individual file can fit in memory and\n",
      "use the keyword ``blocksize=None to remove this message``\n",
      "Setting ``blocksize=None``\n",
      "  \"Setting ``blocksize=None``\" % compression\n"
     ]
    },
    {
     "name": "stdout",
     "output_type": "stream",
     "text": [
      ">> s35809_MobileApp_201704_104647_2_features.csv save file completed!\n",
      "D:\\issp_data\\fe_log\\s35809_MobileApp_201705_104648_os.csv (Delayed('int-0f9d408a-3ba4-4143-ae65-de8006666332'), 2)\n",
      "D:\\issp_data\\fe_log\\s35809_MobileApp_201705_104648_0logfe.csv computing now ...\n"
     ]
    },
    {
     "name": "stderr",
     "output_type": "stream",
     "text": [
      "C:\\Anaconda3\\lib\\site-packages\\dask\\dataframe\\io\\csv.py:385: UserWarning: Warning zip compression does not support breaking apart files\n",
      "Please ensure that each individual file can fit in memory and\n",
      "use the keyword ``blocksize=None to remove this message``\n",
      "Setting ``blocksize=None``\n",
      "  \"Setting ``blocksize=None``\" % compression\n"
     ]
    },
    {
     "name": "stdout",
     "output_type": "stream",
     "text": [
      ">> s35809_MobileApp_201705_104648_0_features.csv save file completed!\n",
      "D:\\issp_data\\fe_log\\s35809_MobileApp_201705_104648_1logfe.csv computing now ...\n"
     ]
    },
    {
     "name": "stderr",
     "output_type": "stream",
     "text": [
      "C:\\Anaconda3\\lib\\site-packages\\dask\\dataframe\\io\\csv.py:385: UserWarning: Warning zip compression does not support breaking apart files\n",
      "Please ensure that each individual file can fit in memory and\n",
      "use the keyword ``blocksize=None to remove this message``\n",
      "Setting ``blocksize=None``\n",
      "  \"Setting ``blocksize=None``\" % compression\n"
     ]
    },
    {
     "name": "stdout",
     "output_type": "stream",
     "text": [
      ">> s35809_MobileApp_201705_104648_1_features.csv save file completed!\n",
      "D:\\issp_data\\fe_log\\s35809_MobileApp_201705_104648_2logfe.csv computing now ...\n"
     ]
    },
    {
     "name": "stderr",
     "output_type": "stream",
     "text": [
      "C:\\Anaconda3\\lib\\site-packages\\dask\\dataframe\\io\\csv.py:385: UserWarning: Warning zip compression does not support breaking apart files\n",
      "Please ensure that each individual file can fit in memory and\n",
      "use the keyword ``blocksize=None to remove this message``\n",
      "Setting ``blocksize=None``\n",
      "  \"Setting ``blocksize=None``\" % compression\n"
     ]
    },
    {
     "name": "stdout",
     "output_type": "stream",
     "text": [
      ">> s35809_MobileApp_201705_104648_2_features.csv save file completed!\n",
      "D:\\issp_data\\fe_log\\s35809_MobileApp_201706_104649_os.csv (Delayed('int-ab023043-3f91-43b6-933a-5c73013424a5'), 2)\n",
      "D:\\issp_data\\fe_log\\s35809_MobileApp_201706_104649_0logfe.csv computing now ...\n"
     ]
    },
    {
     "name": "stderr",
     "output_type": "stream",
     "text": [
      "C:\\Anaconda3\\lib\\site-packages\\dask\\dataframe\\io\\csv.py:385: UserWarning: Warning zip compression does not support breaking apart files\n",
      "Please ensure that each individual file can fit in memory and\n",
      "use the keyword ``blocksize=None to remove this message``\n",
      "Setting ``blocksize=None``\n",
      "  \"Setting ``blocksize=None``\" % compression\n"
     ]
    },
    {
     "name": "stdout",
     "output_type": "stream",
     "text": [
      ">> s35809_MobileApp_201706_104649_0_features.csv save file completed!\n",
      "D:\\issp_data\\fe_log\\s35809_MobileApp_201706_104649_1logfe.csv computing now ...\n"
     ]
    },
    {
     "name": "stderr",
     "output_type": "stream",
     "text": [
      "C:\\Anaconda3\\lib\\site-packages\\dask\\dataframe\\io\\csv.py:385: UserWarning: Warning zip compression does not support breaking apart files\n",
      "Please ensure that each individual file can fit in memory and\n",
      "use the keyword ``blocksize=None to remove this message``\n",
      "Setting ``blocksize=None``\n",
      "  \"Setting ``blocksize=None``\" % compression\n"
     ]
    },
    {
     "name": "stdout",
     "output_type": "stream",
     "text": [
      ">> s35809_MobileApp_201706_104649_1_features.csv save file completed!\n",
      "D:\\issp_data\\fe_log\\s35809_MobileApp_201706_104649_2logfe.csv computing now ...\n"
     ]
    },
    {
     "name": "stderr",
     "output_type": "stream",
     "text": [
      "C:\\Anaconda3\\lib\\site-packages\\dask\\dataframe\\io\\csv.py:385: UserWarning: Warning zip compression does not support breaking apart files\n",
      "Please ensure that each individual file can fit in memory and\n",
      "use the keyword ``blocksize=None to remove this message``\n",
      "Setting ``blocksize=None``\n",
      "  \"Setting ``blocksize=None``\" % compression\n"
     ]
    },
    {
     "name": "stdout",
     "output_type": "stream",
     "text": [
      ">> s35809_MobileApp_201706_104649_2_features.csv save file completed!\n",
      "D:\\issp_data\\fe_log\\s35809_MobileApp_201707_104650_os.csv (Delayed('int-fc34c684-c599-4bf3-9f68-21a74531cee3'), 2)\n",
      "D:\\issp_data\\fe_log\\s35809_MobileApp_201707_104650_0logfe.csv computing now ...\n"
     ]
    },
    {
     "name": "stderr",
     "output_type": "stream",
     "text": [
      "C:\\Anaconda3\\lib\\site-packages\\dask\\dataframe\\io\\csv.py:385: UserWarning: Warning zip compression does not support breaking apart files\n",
      "Please ensure that each individual file can fit in memory and\n",
      "use the keyword ``blocksize=None to remove this message``\n",
      "Setting ``blocksize=None``\n",
      "  \"Setting ``blocksize=None``\" % compression\n"
     ]
    },
    {
     "name": "stdout",
     "output_type": "stream",
     "text": [
      ">> s35809_MobileApp_201707_104650_0_features.csv save file completed!\n",
      "D:\\issp_data\\fe_log\\s35809_MobileApp_201707_104650_1logfe.csv computing now ...\n"
     ]
    },
    {
     "name": "stderr",
     "output_type": "stream",
     "text": [
      "C:\\Anaconda3\\lib\\site-packages\\dask\\dataframe\\io\\csv.py:385: UserWarning: Warning zip compression does not support breaking apart files\n",
      "Please ensure that each individual file can fit in memory and\n",
      "use the keyword ``blocksize=None to remove this message``\n",
      "Setting ``blocksize=None``\n",
      "  \"Setting ``blocksize=None``\" % compression\n"
     ]
    },
    {
     "name": "stdout",
     "output_type": "stream",
     "text": [
      ">> s35809_MobileApp_201707_104650_1_features.csv save file completed!\n",
      "D:\\issp_data\\fe_log\\s35809_MobileApp_201707_104650_2logfe.csv computing now ...\n"
     ]
    },
    {
     "name": "stderr",
     "output_type": "stream",
     "text": [
      "C:\\Anaconda3\\lib\\site-packages\\dask\\dataframe\\io\\csv.py:385: UserWarning: Warning zip compression does not support breaking apart files\n",
      "Please ensure that each individual file can fit in memory and\n",
      "use the keyword ``blocksize=None to remove this message``\n",
      "Setting ``blocksize=None``\n",
      "  \"Setting ``blocksize=None``\" % compression\n"
     ]
    },
    {
     "name": "stdout",
     "output_type": "stream",
     "text": [
      ">> s35809_MobileApp_201707_104650_2_features.csv save file completed!\n",
      "D:\\issp_data\\fe_log\\s35809_MobileApp_201708_104651_os.csv (Delayed('int-53b2d3b7-e213-4faa-8d0b-64083c164007'), 2)\n",
      "D:\\issp_data\\fe_log\\s35809_MobileApp_201708_104651_0logfe.csv computing now ...\n"
     ]
    },
    {
     "name": "stderr",
     "output_type": "stream",
     "text": [
      "C:\\Anaconda3\\lib\\site-packages\\dask\\dataframe\\io\\csv.py:385: UserWarning: Warning zip compression does not support breaking apart files\n",
      "Please ensure that each individual file can fit in memory and\n",
      "use the keyword ``blocksize=None to remove this message``\n",
      "Setting ``blocksize=None``\n",
      "  \"Setting ``blocksize=None``\" % compression\n"
     ]
    },
    {
     "name": "stdout",
     "output_type": "stream",
     "text": [
      ">> s35809_MobileApp_201708_104651_0_features.csv save file completed!\n",
      "D:\\issp_data\\fe_log\\s35809_MobileApp_201708_104651_1logfe.csv computing now ...\n"
     ]
    },
    {
     "name": "stderr",
     "output_type": "stream",
     "text": [
      "C:\\Anaconda3\\lib\\site-packages\\dask\\dataframe\\io\\csv.py:385: UserWarning: Warning zip compression does not support breaking apart files\n",
      "Please ensure that each individual file can fit in memory and\n",
      "use the keyword ``blocksize=None to remove this message``\n",
      "Setting ``blocksize=None``\n",
      "  \"Setting ``blocksize=None``\" % compression\n"
     ]
    },
    {
     "name": "stdout",
     "output_type": "stream",
     "text": [
      ">> s35809_MobileApp_201708_104651_1_features.csv save file completed!\n",
      "D:\\issp_data\\fe_log\\s35809_MobileApp_201708_104651_2logfe.csv computing now ...\n"
     ]
    },
    {
     "name": "stderr",
     "output_type": "stream",
     "text": [
      "C:\\Anaconda3\\lib\\site-packages\\dask\\dataframe\\io\\csv.py:385: UserWarning: Warning zip compression does not support breaking apart files\n",
      "Please ensure that each individual file can fit in memory and\n",
      "use the keyword ``blocksize=None to remove this message``\n",
      "Setting ``blocksize=None``\n",
      "  \"Setting ``blocksize=None``\" % compression\n"
     ]
    },
    {
     "name": "stdout",
     "output_type": "stream",
     "text": [
      ">> s35809_MobileApp_201708_104651_2_features.csv save file completed!\n",
      "D:\\issp_data\\fe_log\\s35809_MobileApp_201709_104652_os.csv (Delayed('int-e0de94a0-d7db-4ad8-9a18-f73e461ebc63'), 2)\n",
      "D:\\issp_data\\fe_log\\s35809_MobileApp_201709_104652_0logfe.csv computing now ...\n"
     ]
    },
    {
     "name": "stderr",
     "output_type": "stream",
     "text": [
      "C:\\Anaconda3\\lib\\site-packages\\dask\\dataframe\\io\\csv.py:385: UserWarning: Warning zip compression does not support breaking apart files\n",
      "Please ensure that each individual file can fit in memory and\n",
      "use the keyword ``blocksize=None to remove this message``\n",
      "Setting ``blocksize=None``\n",
      "  \"Setting ``blocksize=None``\" % compression\n"
     ]
    },
    {
     "name": "stdout",
     "output_type": "stream",
     "text": [
      ">> s35809_MobileApp_201709_104652_0_features.csv save file completed!\n",
      "D:\\issp_data\\fe_log\\s35809_MobileApp_201709_104652_1logfe.csv computing now ...\n"
     ]
    },
    {
     "name": "stderr",
     "output_type": "stream",
     "text": [
      "C:\\Anaconda3\\lib\\site-packages\\dask\\dataframe\\io\\csv.py:385: UserWarning: Warning zip compression does not support breaking apart files\n",
      "Please ensure that each individual file can fit in memory and\n",
      "use the keyword ``blocksize=None to remove this message``\n",
      "Setting ``blocksize=None``\n",
      "  \"Setting ``blocksize=None``\" % compression\n"
     ]
    },
    {
     "name": "stdout",
     "output_type": "stream",
     "text": [
      ">> s35809_MobileApp_201709_104652_1_features.csv save file completed!\n",
      "D:\\issp_data\\fe_log\\s35809_MobileApp_201709_104652_2logfe.csv computing now ...\n"
     ]
    },
    {
     "name": "stderr",
     "output_type": "stream",
     "text": [
      "C:\\Anaconda3\\lib\\site-packages\\dask\\dataframe\\io\\csv.py:385: UserWarning: Warning zip compression does not support breaking apart files\n",
      "Please ensure that each individual file can fit in memory and\n",
      "use the keyword ``blocksize=None to remove this message``\n",
      "Setting ``blocksize=None``\n",
      "  \"Setting ``blocksize=None``\" % compression\n"
     ]
    },
    {
     "name": "stdout",
     "output_type": "stream",
     "text": [
      ">> s35809_MobileApp_201709_104652_2_features.csv save file completed!\n",
      "D:\\issp_data\\fe_log\\s35809_MobileApp_201710_104653_os.csv (Delayed('int-b5a6a96a-57b4-42d1-8ee1-4b9c66477dac'), 2)\n",
      "D:\\issp_data\\fe_log\\s35809_MobileApp_201710_104653_0logfe.csv computing now ...\n"
     ]
    },
    {
     "name": "stderr",
     "output_type": "stream",
     "text": [
      "C:\\Anaconda3\\lib\\site-packages\\dask\\dataframe\\io\\csv.py:385: UserWarning: Warning zip compression does not support breaking apart files\n",
      "Please ensure that each individual file can fit in memory and\n",
      "use the keyword ``blocksize=None to remove this message``\n",
      "Setting ``blocksize=None``\n",
      "  \"Setting ``blocksize=None``\" % compression\n"
     ]
    },
    {
     "name": "stdout",
     "output_type": "stream",
     "text": [
      ">> s35809_MobileApp_201710_104653_0_features.csv save file completed!\n",
      "D:\\issp_data\\fe_log\\s35809_MobileApp_201710_104653_1logfe.csv computing now ...\n"
     ]
    },
    {
     "name": "stderr",
     "output_type": "stream",
     "text": [
      "C:\\Anaconda3\\lib\\site-packages\\dask\\dataframe\\io\\csv.py:385: UserWarning: Warning zip compression does not support breaking apart files\n",
      "Please ensure that each individual file can fit in memory and\n",
      "use the keyword ``blocksize=None to remove this message``\n",
      "Setting ``blocksize=None``\n",
      "  \"Setting ``blocksize=None``\" % compression\n"
     ]
    },
    {
     "name": "stdout",
     "output_type": "stream",
     "text": [
      ">> s35809_MobileApp_201710_104653_1_features.csv save file completed!\n",
      "D:\\issp_data\\fe_log\\s35809_MobileApp_201710_104653_2logfe.csv computing now ...\n"
     ]
    },
    {
     "name": "stderr",
     "output_type": "stream",
     "text": [
      "C:\\Anaconda3\\lib\\site-packages\\dask\\dataframe\\io\\csv.py:385: UserWarning: Warning zip compression does not support breaking apart files\n",
      "Please ensure that each individual file can fit in memory and\n",
      "use the keyword ``blocksize=None to remove this message``\n",
      "Setting ``blocksize=None``\n",
      "  \"Setting ``blocksize=None``\" % compression\n"
     ]
    },
    {
     "name": "stdout",
     "output_type": "stream",
     "text": [
      ">> s35809_MobileApp_201710_104653_2_features.csv save file completed!\n",
      "D:\\issp_data\\fe_log\\s35809_MobileApp_201711_104654_os.csv (Delayed('int-5312897b-ef07-4b35-8297-38e49a40b780'), 2)\n",
      "D:\\issp_data\\fe_log\\s35809_MobileApp_201711_104654_0logfe.csv computing now ...\n"
     ]
    },
    {
     "name": "stderr",
     "output_type": "stream",
     "text": [
      "C:\\Anaconda3\\lib\\site-packages\\dask\\dataframe\\io\\csv.py:385: UserWarning: Warning zip compression does not support breaking apart files\n",
      "Please ensure that each individual file can fit in memory and\n",
      "use the keyword ``blocksize=None to remove this message``\n",
      "Setting ``blocksize=None``\n",
      "  \"Setting ``blocksize=None``\" % compression\n"
     ]
    },
    {
     "name": "stdout",
     "output_type": "stream",
     "text": [
      ">> s35809_MobileApp_201711_104654_0_features.csv save file completed!\n",
      "D:\\issp_data\\fe_log\\s35809_MobileApp_201711_104654_1logfe.csv computing now ...\n"
     ]
    },
    {
     "name": "stderr",
     "output_type": "stream",
     "text": [
      "C:\\Anaconda3\\lib\\site-packages\\dask\\dataframe\\io\\csv.py:385: UserWarning: Warning zip compression does not support breaking apart files\n",
      "Please ensure that each individual file can fit in memory and\n",
      "use the keyword ``blocksize=None to remove this message``\n",
      "Setting ``blocksize=None``\n",
      "  \"Setting ``blocksize=None``\" % compression\n"
     ]
    },
    {
     "name": "stdout",
     "output_type": "stream",
     "text": [
      ">> s35809_MobileApp_201711_104654_1_features.csv save file completed!\n",
      "D:\\issp_data\\fe_log\\s35809_MobileApp_201711_104654_2logfe.csv computing now ...\n"
     ]
    },
    {
     "name": "stderr",
     "output_type": "stream",
     "text": [
      "C:\\Anaconda3\\lib\\site-packages\\dask\\dataframe\\io\\csv.py:385: UserWarning: Warning zip compression does not support breaking apart files\n",
      "Please ensure that each individual file can fit in memory and\n",
      "use the keyword ``blocksize=None to remove this message``\n",
      "Setting ``blocksize=None``\n",
      "  \"Setting ``blocksize=None``\" % compression\n"
     ]
    },
    {
     "name": "stdout",
     "output_type": "stream",
     "text": [
      ">> s35809_MobileApp_201711_104654_2_features.csv save file completed!\n",
      "D:\\issp_data\\fe_log\\s35809_MobileApp_201712_104655_os.csv (Delayed('int-78ef873a-386d-4025-9525-f4d4de77911c'), 2)\n",
      "D:\\issp_data\\fe_log\\s35809_MobileApp_201712_104655_0logfe.csv computing now ...\n"
     ]
    },
    {
     "name": "stderr",
     "output_type": "stream",
     "text": [
      "C:\\Anaconda3\\lib\\site-packages\\dask\\dataframe\\io\\csv.py:385: UserWarning: Warning zip compression does not support breaking apart files\n",
      "Please ensure that each individual file can fit in memory and\n",
      "use the keyword ``blocksize=None to remove this message``\n",
      "Setting ``blocksize=None``\n",
      "  \"Setting ``blocksize=None``\" % compression\n"
     ]
    },
    {
     "name": "stdout",
     "output_type": "stream",
     "text": [
      ">> s35809_MobileApp_201712_104655_0_features.csv save file completed!\n",
      "D:\\issp_data\\fe_log\\s35809_MobileApp_201712_104655_1logfe.csv computing now ...\n"
     ]
    },
    {
     "name": "stderr",
     "output_type": "stream",
     "text": [
      "C:\\Anaconda3\\lib\\site-packages\\dask\\dataframe\\io\\csv.py:385: UserWarning: Warning zip compression does not support breaking apart files\n",
      "Please ensure that each individual file can fit in memory and\n",
      "use the keyword ``blocksize=None to remove this message``\n",
      "Setting ``blocksize=None``\n",
      "  \"Setting ``blocksize=None``\" % compression\n"
     ]
    },
    {
     "name": "stdout",
     "output_type": "stream",
     "text": [
      ">> s35809_MobileApp_201712_104655_1_features.csv save file completed!\n",
      "D:\\issp_data\\fe_log\\s35809_MobileApp_201712_104655_2logfe.csv computing now ...\n"
     ]
    },
    {
     "name": "stderr",
     "output_type": "stream",
     "text": [
      "C:\\Anaconda3\\lib\\site-packages\\dask\\dataframe\\io\\csv.py:385: UserWarning: Warning zip compression does not support breaking apart files\n",
      "Please ensure that each individual file can fit in memory and\n",
      "use the keyword ``blocksize=None to remove this message``\n",
      "Setting ``blocksize=None``\n",
      "  \"Setting ``blocksize=None``\" % compression\n"
     ]
    },
    {
     "name": "stdout",
     "output_type": "stream",
     "text": [
      ">> s35809_MobileApp_201712_104655_2_features.csv save file completed!\n"
     ]
    }
   ],
   "source": [
    "file_ls = sorted(os.listdir(log_root))\n",
    "\n",
    "for month in range(12):\n",
    "    path_os = os.path.join(log_root, file_ls[month * 4 + 3])\n",
    "    df_os = dd.read_csv(path_os, compression='zip')\n",
    "    print(path_os, df_os.shape)\n",
    "    \n",
    "    for cata in range(3):\n",
    "        file_nm = file_ls[month * 4 + cata]\n",
    "        path_login = os.path.join(log_root, file_nm)\n",
    "        file_nm = file_nm[:-9] + r'_features.csv'\n",
    "        \n",
    "        print(path_login, r'computing now ...')\n",
    "        \n",
    "        dd.read_csv(path_login, compression='zip')\\\n",
    "            .set_index('Monitor_ID')\\\n",
    "            .join(df_os.set_index('Monitor_ID'))\\\n",
    "            .join(df_profile.set_index('Monitor_ID'))\\\n",
    "            .compute()\\\n",
    "            .drop(columns='Date')\\\n",
    "            .to_csv(os.path.join(out_root, file_nm), \n",
    "                    header=True, index=None, compression='zip')\n",
    "        \n",
    "        print(f'>> {file_nm} save file completed!')"
   ]
  },
  {
   "cell_type": "code",
   "execution_count": 35,
   "metadata": {
    "ExecuteTime": {
     "end_time": "2019-11-21T12:08:06.341940Z",
     "start_time": "2019-11-21T12:08:03.377303Z"
    }
   },
   "outputs": [
    {
     "data": {
      "text/plain": [
       "array([[1.48360437e+09, 1.48359587e+09, 1.48359918e+09, ...,\n",
       "        1.00000000e+00, 1.00000000e+00, 1.14000000e+02],\n",
       "       [1.48581838e+09, 1.48580477e+09, 1.48581554e+09, ...,\n",
       "        1.00000000e+00, 1.00000000e+00, 1.14000000e+02],\n",
       "       [1.48564564e+09, 1.48563486e+09, 1.48563381e+09, ...,\n",
       "        1.00000000e+00, 1.00000000e+00, 1.14000000e+02],\n",
       "       ...,\n",
       "       [1.48530221e+09, 1.48529552e+09, 1.48529512e+09, ...,\n",
       "        4.00000000e+00, 2.00000000e+00, 1.45000000e+02],\n",
       "       [1.48323335e+09, 1.48323263e+09, 1.48323310e+09, ...,\n",
       "        4.00000000e+00, 2.00000000e+00, 1.45000000e+02],\n",
       "       [1.48461081e+09, 1.48460391e+09, 1.48460294e+09, ...,\n",
       "        4.00000000e+00, 2.00000000e+00, 1.45000000e+02]])"
      ]
     },
     "execution_count": 35,
     "metadata": {},
     "output_type": "execute_result"
    }
   ],
   "source": [
    "path = r'D:\\issp_data\\features_total\\s35809_MobileApp_201701_104628_0_features.csv'\n",
    "df_os = dd.read_csv(path, compression='zip')\\\n",
    "            .compute()\\\n",
    "\n",
    "df_os"
   ]
  }
 ],
 "metadata": {
  "colab": {
   "collapsed_sections": [],
   "name": "new_pp.ipynb",
   "provenance": [],
   "version": "0.3.2"
  },
  "kernelspec": {
   "display_name": "Python 3",
   "language": "python",
   "name": "python3"
  },
  "language_info": {
   "codemirror_mode": {
    "name": "ipython",
    "version": 3
   },
   "file_extension": ".py",
   "mimetype": "text/x-python",
   "name": "python",
   "nbconvert_exporter": "python",
   "pygments_lexer": "ipython3",
   "version": "3.7.3"
  }
 },
 "nbformat": 4,
 "nbformat_minor": 4
}
