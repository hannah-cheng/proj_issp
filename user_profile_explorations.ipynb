{
 "cells": [
  {
   "cell_type": "code",
   "execution_count": 11,
   "metadata": {
    "ExecuteTime": {
     "end_time": "2019-11-29T06:31:46.234999Z",
     "start_time": "2019-11-29T06:31:45.223315Z"
    }
   },
   "outputs": [
    {
     "name": "stdout",
     "output_type": "stream",
     "text": [
      "       モニターID  モニターID(11桁)                                暗号化ID(40桁)  \\\n",
      "0  9400000011  50000203856  a9ef450bce7f35355568d8f9204972e1fb248e11   \n",
      "1  9400000013  50000300858  e01dfc80b4df946eeab03b0868841679da8f5902   \n",
      "2  9400000032  50000448787  d82e5649df15beda26bfb824eca6a29457d9da47   \n",
      "\n",
      "   居住都道府県(参考) 居住都道府県(参考)_名称  居住エリア 居住エリア_名称  年齢(5才刻み) 年齢(5才刻み)_名称  年齢(10才刻み)  \\\n",
      "0          45           宮　崎     10       九州         6      40〜44才          4   \n",
      "1          22           静　岡      6       東海        10        60才〜          6   \n",
      "2          14           神奈川      4       京浜         6      40〜44才          4   \n",
      "\n",
      "   ... 家族人員(65才以上)  家族人員(65才以上)_名称 自動車(自家用車保有)有無  自動車(自家用車保有)有無_名称  \\\n",
      "0  ...           2              無し             2                無し   \n",
      "1  ...           1              有り             1                有り   \n",
      "2  ...           2              無し             1                有り   \n",
      "\n",
      "  同居子供人数（17才以下）  同居子供人数（17才以下）_名称 同居子供人数（14才以下）  同居子供人数（14才以下）_名称 ウエイトセル  \\\n",
      "0             1       子供なし(17才以下)             1       子供なし(14才以下)    168   \n",
      "1             1       子供なし(17才以下)             1       子供なし(14才以下)    108   \n",
      "2             2                1人             2                1人     70   \n",
      "\n",
      "      ウエイトセル_名称  \n",
      "0  九州_男性40-49未婚  \n",
      "1    東海_女性60-69  \n",
      "2  京浜_女性40-49既婚  \n",
      "\n",
      "[3 rows x 79 columns]\n"
     ]
    }
   ],
   "source": [
    "import pandas as pd\n",
    "profile_path = r'D:\\issp_data\\zok_ssp_2017.csv'\n",
    "df = pd.read_csv(profile_path, encoding='shift-jis')\n",
    "print(df.head(3))"
   ]
  },
  {
   "cell_type": "code",
   "execution_count": 12,
   "metadata": {
    "ExecuteTime": {
     "end_time": "2019-11-29T06:32:45.939532Z",
     "start_time": "2019-11-29T06:32:45.513056Z"
    }
   },
   "outputs": [
    {
     "name": "stdout",
     "output_type": "stream",
     "text": [
      "  年齢(5才刻み)_名称  性別\n",
      "0      40〜44才   1\n",
      "1        60才〜   2\n",
      "2      40〜44才   2\n"
     ]
    }
   ],
   "source": [
    "usecols = [r'性別', r'年齢(5才刻み)_名称']\n",
    "df = pd.read_csv(profile_path, encoding='shift-jis', usecols=usecols)\n",
    "print(df.head(3))"
   ]
  },
  {
   "cell_type": "code",
   "execution_count": 9,
   "metadata": {
    "ExecuteTime": {
     "end_time": "2019-11-29T06:31:12.177358Z",
     "start_time": "2019-11-29T06:31:12.136846Z"
    }
   },
   "outputs": [
    {
     "data": {
      "text/html": [
       "<div>\n",
       "<style scoped>\n",
       "    .dataframe tbody tr th:only-of-type {\n",
       "        vertical-align: middle;\n",
       "    }\n",
       "\n",
       "    .dataframe tbody tr th {\n",
       "        vertical-align: top;\n",
       "    }\n",
       "\n",
       "    .dataframe thead th {\n",
       "        text-align: right;\n",
       "    }\n",
       "</style>\n",
       "<table border=\"1\" class=\"dataframe\">\n",
       "  <thead>\n",
       "    <tr style=\"text-align: right;\">\n",
       "      <th></th>\n",
       "      <th></th>\n",
       "      <th>年齢(5才刻み)</th>\n",
       "    </tr>\n",
       "    <tr>\n",
       "      <th>性別</th>\n",
       "      <th>年齢(5才刻み)_名称</th>\n",
       "      <th></th>\n",
       "    </tr>\n",
       "  </thead>\n",
       "  <tbody>\n",
       "    <tr>\n",
       "      <th rowspan=\"10\" valign=\"top\">1</th>\n",
       "      <th>20〜24才</th>\n",
       "      <td>1374</td>\n",
       "    </tr>\n",
       "    <tr>\n",
       "      <th>25〜29才</th>\n",
       "      <td>1471</td>\n",
       "    </tr>\n",
       "    <tr>\n",
       "      <th>30〜34才</th>\n",
       "      <td>1423</td>\n",
       "    </tr>\n",
       "    <tr>\n",
       "      <th>35〜39才</th>\n",
       "      <td>1762</td>\n",
       "    </tr>\n",
       "    <tr>\n",
       "      <th>40〜44才</th>\n",
       "      <td>1989</td>\n",
       "    </tr>\n",
       "    <tr>\n",
       "      <th>45〜49才</th>\n",
       "      <td>1797</td>\n",
       "    </tr>\n",
       "    <tr>\n",
       "      <th>50〜54才</th>\n",
       "      <td>1722</td>\n",
       "    </tr>\n",
       "    <tr>\n",
       "      <th>55〜59才</th>\n",
       "      <td>1484</td>\n",
       "    </tr>\n",
       "    <tr>\n",
       "      <th>60才〜</th>\n",
       "      <td>2275</td>\n",
       "    </tr>\n",
       "    <tr>\n",
       "      <th>〜19才</th>\n",
       "      <td>571</td>\n",
       "    </tr>\n",
       "    <tr>\n",
       "      <th rowspan=\"10\" valign=\"top\">2</th>\n",
       "      <th>20〜24才</th>\n",
       "      <td>2064</td>\n",
       "    </tr>\n",
       "    <tr>\n",
       "      <th>25〜29才</th>\n",
       "      <td>2577</td>\n",
       "    </tr>\n",
       "    <tr>\n",
       "      <th>30〜34才</th>\n",
       "      <td>2176</td>\n",
       "    </tr>\n",
       "    <tr>\n",
       "      <th>35〜39才</th>\n",
       "      <td>1908</td>\n",
       "    </tr>\n",
       "    <tr>\n",
       "      <th>40〜44才</th>\n",
       "      <td>2037</td>\n",
       "    </tr>\n",
       "    <tr>\n",
       "      <th>45〜49才</th>\n",
       "      <td>2010</td>\n",
       "    </tr>\n",
       "    <tr>\n",
       "      <th>50〜54才</th>\n",
       "      <td>1688</td>\n",
       "    </tr>\n",
       "    <tr>\n",
       "      <th>55〜59才</th>\n",
       "      <td>1278</td>\n",
       "    </tr>\n",
       "    <tr>\n",
       "      <th>60才〜</th>\n",
       "      <td>1382</td>\n",
       "    </tr>\n",
       "    <tr>\n",
       "      <th>〜19才</th>\n",
       "      <td>944</td>\n",
       "    </tr>\n",
       "  </tbody>\n",
       "</table>\n",
       "</div>"
      ],
      "text/plain": [
       "                年齢(5才刻み)\n",
       "性別 年齢(5才刻み)_名称          \n",
       "1  20〜24才           1374\n",
       "   25〜29才           1471\n",
       "   30〜34才           1423\n",
       "   35〜39才           1762\n",
       "   40〜44才           1989\n",
       "   45〜49才           1797\n",
       "   50〜54才           1722\n",
       "   55〜59才           1484\n",
       "   60才〜             2275\n",
       "   〜19才              571\n",
       "2  20〜24才           2064\n",
       "   25〜29才           2577\n",
       "   30〜34才           2176\n",
       "   35〜39才           1908\n",
       "   40〜44才           2037\n",
       "   45〜49才           2010\n",
       "   50〜54才           1688\n",
       "   55〜59才           1278\n",
       "   60才〜             1382\n",
       "   〜19才              944"
      ]
     },
     "execution_count": 9,
     "metadata": {},
     "output_type": "execute_result"
    }
   ],
   "source": [
    "df.groupby([r'性別', r'年齢(5才刻み)_名称']).count()\n",
    "# 其中1==男性, 2==女性"
   ]
  },
  {
   "cell_type": "code",
   "execution_count": null,
   "metadata": {},
   "outputs": [],
   "source": []
  }
 ],
 "metadata": {
  "kernelspec": {
   "display_name": "Python 3",
   "language": "python",
   "name": "python3"
  },
  "language_info": {
   "codemirror_mode": {
    "name": "ipython",
    "version": 3
   },
   "file_extension": ".py",
   "mimetype": "text/x-python",
   "name": "python",
   "nbconvert_exporter": "python",
   "pygments_lexer": "ipython3",
   "version": "3.7.3"
  }
 },
 "nbformat": 4,
 "nbformat_minor": 2
}
