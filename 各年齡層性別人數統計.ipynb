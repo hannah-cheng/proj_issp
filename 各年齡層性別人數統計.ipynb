{
 "cells": [
  {
   "cell_type": "code",
   "execution_count": 1,
   "metadata": {
    "ExecuteTime": {
     "end_time": "2020-01-05T18:59:04.085847Z",
     "start_time": "2020-01-05T18:59:02.151535Z"
    },
    "scrolled": true
   },
   "outputs": [],
   "source": [
    "import dask.dataframe as dd\n",
    "\n",
    "path_profile = r'D:\\issp_data\\zok_ssp_2017.csv'\n",
    "df = dd.read_csv(path_profile, encoding='shift-jis').compute()"
   ]
  },
  {
   "cell_type": "code",
   "execution_count": 8,
   "metadata": {
    "ExecuteTime": {
     "end_time": "2020-01-05T19:01:40.373280Z",
     "start_time": "2020-01-05T19:01:40.263578Z"
    }
   },
   "outputs": [
    {
     "data": {
      "text/plain": [
       "性別_名称  年齢(5才刻み)_名称\n",
       "女性     20〜24才         2064\n",
       "       25〜29才         2577\n",
       "       30〜34才         2176\n",
       "       35〜39才         1908\n",
       "       40〜44才         2037\n",
       "       45〜49才         2010\n",
       "       50〜54才         1688\n",
       "       55〜59才         1278\n",
       "       60才〜           1382\n",
       "       〜19才            944\n",
       "男性     20〜24才         1374\n",
       "       25〜29才         1471\n",
       "       30〜34才         1423\n",
       "       35〜39才         1762\n",
       "       40〜44才         1989\n",
       "       45〜49才         1797\n",
       "       50〜54才         1722\n",
       "       55〜59才         1484\n",
       "       60才〜           2275\n",
       "       〜19才            571\n",
       "Name: モニターID(11桁), dtype: int64"
      ]
     },
     "execution_count": 8,
     "metadata": {},
     "output_type": "execute_result"
    }
   ],
   "source": [
    "ret = df.groupby([r'性別_名称',r'年齢(5才刻み)_名称' ])\\\n",
    "        .count()\\\n",
    "        .loc[:, r'モニターID(11桁)']\n",
    "ret"
   ]
  },
  {
   "cell_type": "code",
   "execution_count": null,
   "metadata": {},
   "outputs": [],
   "source": []
  }
 ],
 "metadata": {
  "kernelspec": {
   "display_name": "Python 3",
   "language": "python",
   "name": "python3"
  },
  "language_info": {
   "codemirror_mode": {
    "name": "ipython",
    "version": 3
   },
   "file_extension": ".py",
   "mimetype": "text/x-python",
   "name": "python",
   "nbconvert_exporter": "python",
   "pygments_lexer": "ipython3",
   "version": "3.7.3"
  }
 },
 "nbformat": 4,
 "nbformat_minor": 2
}
